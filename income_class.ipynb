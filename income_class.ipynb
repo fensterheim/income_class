{
  "nbformat": 4,
  "nbformat_minor": 0,
  "metadata": {
    "kernelspec": {
      "display_name": "Python 3.7.5 64-bit ('supersig': virtualenv)",
      "language": "python",
      "name": "python37564bitsupersigvirtualenv7b06892cbca242d79f8a4e21b6c2560f"
    },
    "language_info": {
      "codemirror_mode": {
        "name": "ipython",
        "version": 3
      },
      "file_extension": ".py",
      "mimetype": "text/x-python",
      "name": "python",
      "nbconvert_exporter": "python",
      "pygments_lexer": "ipython3",
      "version": "3.7.5"
    },
    "colab": {
      "name": "income_class.ipynb",
      "provenance": [],
      "collapsed_sections": []
    }
  },
  "cells": [
    {
      "cell_type": "code",
      "metadata": {
        "id": "HMvHFPDwQExx"
      },
      "source": [
        "import pandas as pd\n",
        "import numpy as np\n",
        "import matplotlib.pyplot as plt\n",
        "import seaborn as sns\n",
        "import scipy.stats as stats\n",
        "import itertools\n",
        "import math\n",
        "import xgboost as xgb\n",
        "from collections import Counter\n",
        "from sklearn.feature_selection import chi2\n",
        "from sklearn.model_selection import train_test_split\n",
        "from sklearn.model_selection import KFold\n",
        "from sklearn.model_selection import cross_val_score\n",
        "from sklearn.metrics import accuracy_score\n",
        "from xgboost import plot_importance\n",
        "\n",
        "\n",
        "\n",
        "%matplotlib inline\n"
      ],
      "execution_count": null,
      "outputs": []
    },
    {
      "cell_type": "markdown",
      "metadata": {
        "id": "0eCcvWwtQEx3"
      },
      "source": [
        "# EDA"
      ]
    },
    {
      "cell_type": "code",
      "metadata": {
        "colab": {
          "base_uri": "https://localhost:8080/",
          "height": 293
        },
        "id": "oh8nOb5ZQEx5",
        "outputId": "40045987-5dfb-4fcb-b252-dd478e3a00db"
      },
      "source": [
        "raw_df = pd.read_csv('income_pred.csv')\n",
        "raw_df.head()"
      ],
      "execution_count": null,
      "outputs": [
        {
          "output_type": "execute_result",
          "data": {
            "text/html": [
              "<div>\n",
              "<style scoped>\n",
              "    .dataframe tbody tr th:only-of-type {\n",
              "        vertical-align: middle;\n",
              "    }\n",
              "\n",
              "    .dataframe tbody tr th {\n",
              "        vertical-align: top;\n",
              "    }\n",
              "\n",
              "    .dataframe thead th {\n",
              "        text-align: right;\n",
              "    }\n",
              "</style>\n",
              "<table border=\"1\" class=\"dataframe\">\n",
              "  <thead>\n",
              "    <tr style=\"text-align: right;\">\n",
              "      <th></th>\n",
              "      <th>ID</th>\n",
              "      <th>age</th>\n",
              "      <th>workclass</th>\n",
              "      <th>fnlwgt:</th>\n",
              "      <th>education:</th>\n",
              "      <th>education-num:</th>\n",
              "      <th>marital-status:</th>\n",
              "      <th>occupation:</th>\n",
              "      <th>relationship:</th>\n",
              "      <th>race:</th>\n",
              "      <th>sex:</th>\n",
              "      <th>capital-gain:</th>\n",
              "      <th>capital-loss:</th>\n",
              "      <th>hours-per-week:</th>\n",
              "      <th>native-country:</th>\n",
              "      <th>class</th>\n",
              "    </tr>\n",
              "  </thead>\n",
              "  <tbody>\n",
              "    <tr>\n",
              "      <th>0</th>\n",
              "      <td>1</td>\n",
              "      <td>39</td>\n",
              "      <td>State-gov</td>\n",
              "      <td>77516</td>\n",
              "      <td>Bachelors</td>\n",
              "      <td>13</td>\n",
              "      <td>Never-married</td>\n",
              "      <td>Adm-clerical</td>\n",
              "      <td>Not-in-family</td>\n",
              "      <td>White</td>\n",
              "      <td>Male</td>\n",
              "      <td>2174</td>\n",
              "      <td>0</td>\n",
              "      <td>40</td>\n",
              "      <td>United-States</td>\n",
              "      <td>&lt;=50K</td>\n",
              "    </tr>\n",
              "    <tr>\n",
              "      <th>1</th>\n",
              "      <td>2</td>\n",
              "      <td>50</td>\n",
              "      <td>Self-emp-not-inc</td>\n",
              "      <td>83311</td>\n",
              "      <td>Bachelors</td>\n",
              "      <td>13</td>\n",
              "      <td>Married-civ-spouse</td>\n",
              "      <td>Exec-managerial</td>\n",
              "      <td>Husband</td>\n",
              "      <td>White</td>\n",
              "      <td>Male</td>\n",
              "      <td>0</td>\n",
              "      <td>0</td>\n",
              "      <td>13</td>\n",
              "      <td>United-States</td>\n",
              "      <td>&lt;=50K</td>\n",
              "    </tr>\n",
              "    <tr>\n",
              "      <th>2</th>\n",
              "      <td>3</td>\n",
              "      <td>38</td>\n",
              "      <td>Private</td>\n",
              "      <td>215646</td>\n",
              "      <td>HS-grad</td>\n",
              "      <td>9</td>\n",
              "      <td>Divorced</td>\n",
              "      <td>Handlers-cleaners</td>\n",
              "      <td>Not-in-family</td>\n",
              "      <td>White</td>\n",
              "      <td>Male</td>\n",
              "      <td>0</td>\n",
              "      <td>0</td>\n",
              "      <td>40</td>\n",
              "      <td>United-States</td>\n",
              "      <td>&lt;=50K</td>\n",
              "    </tr>\n",
              "    <tr>\n",
              "      <th>3</th>\n",
              "      <td>4</td>\n",
              "      <td>53</td>\n",
              "      <td>Private</td>\n",
              "      <td>234721</td>\n",
              "      <td>11th</td>\n",
              "      <td>7</td>\n",
              "      <td>Married-civ-spouse</td>\n",
              "      <td>Handlers-cleaners</td>\n",
              "      <td>Husband</td>\n",
              "      <td>Black</td>\n",
              "      <td>Male</td>\n",
              "      <td>0</td>\n",
              "      <td>0</td>\n",
              "      <td>40</td>\n",
              "      <td>United-States</td>\n",
              "      <td>&lt;=50K</td>\n",
              "    </tr>\n",
              "    <tr>\n",
              "      <th>4</th>\n",
              "      <td>5</td>\n",
              "      <td>28</td>\n",
              "      <td>Private</td>\n",
              "      <td>338409</td>\n",
              "      <td>Bachelors</td>\n",
              "      <td>13</td>\n",
              "      <td>Married-civ-spouse</td>\n",
              "      <td>Prof-specialty</td>\n",
              "      <td>Wife</td>\n",
              "      <td>Black</td>\n",
              "      <td>Female</td>\n",
              "      <td>0</td>\n",
              "      <td>0</td>\n",
              "      <td>40</td>\n",
              "      <td>Cuba</td>\n",
              "      <td>&lt;=50K</td>\n",
              "    </tr>\n",
              "  </tbody>\n",
              "</table>\n",
              "</div>"
            ],
            "text/plain": [
              "   ID  age         workclass  ...  hours-per-week: native-country:  class\n",
              "0   1   39         State-gov  ...               40   United-States  <=50K\n",
              "1   2   50  Self-emp-not-inc  ...               13   United-States  <=50K\n",
              "2   3   38           Private  ...               40   United-States  <=50K\n",
              "3   4   53           Private  ...               40   United-States  <=50K\n",
              "4   5   28           Private  ...               40            Cuba  <=50K\n",
              "\n",
              "[5 rows x 16 columns]"
            ]
          },
          "metadata": {},
          "execution_count": 2
        }
      ]
    },
    {
      "cell_type": "code",
      "metadata": {
        "colab": {
          "base_uri": "https://localhost:8080/"
        },
        "id": "ZknR3J7LVIXn",
        "outputId": "0bf09895-6e2e-4f1d-f7cf-5af1db600037"
      },
      "source": [
        "raw_df.info()"
      ],
      "execution_count": null,
      "outputs": [
        {
          "output_type": "stream",
          "name": "stdout",
          "text": [
            "<class 'pandas.core.frame.DataFrame'>\n",
            "RangeIndex: 32561 entries, 0 to 32560\n",
            "Data columns (total 16 columns):\n",
            " #   Column           Non-Null Count  Dtype \n",
            "---  ------           --------------  ----- \n",
            " 0   ID               32561 non-null  int64 \n",
            " 1   age              32561 non-null  int64 \n",
            " 2   workclass        32561 non-null  object\n",
            " 3   fnlwgt:          32561 non-null  int64 \n",
            " 4   education:       32561 non-null  object\n",
            " 5   education-num:   32561 non-null  int64 \n",
            " 6   marital-status:  32561 non-null  object\n",
            " 7   occupation:      32561 non-null  object\n",
            " 8   relationship:    32561 non-null  object\n",
            " 9   race:            32561 non-null  object\n",
            " 10  sex:             32561 non-null  object\n",
            " 11  capital-gain:    32561 non-null  int64 \n",
            " 12  capital-loss:    32561 non-null  int64 \n",
            " 13  hours-per-week:  32561 non-null  int64 \n",
            " 14  native-country:  32561 non-null  object\n",
            " 15  class            32561 non-null  object\n",
            "dtypes: int64(7), object(9)\n",
            "memory usage: 4.0+ MB\n"
          ]
        }
      ]
    },
    {
      "cell_type": "markdown",
      "metadata": {
        "id": "F800lMrDQEx8"
      },
      "source": [
        "Lets go over the columns:\n",
        " - ID: probably irrelevant\n",
        " - age: probably plays a role\n",
        " - workclass: probably relevant as well\n",
        " - fnlwgt: after googling - final weight. In other words, this is the number of people the census believes the entry represents\n",
        " - education: probably has some influence, we should probably treat it as ordinary\n",
        " - education-num: is this education but just ordinary?\n",
        " - marital status: probably has little to do with the target\n",
        " - occupation: this might have some importants, I think we can do some feature extraction here\n",
        " - relationship: probably similar to marital status\n",
        " - race: sadly this might be correlated\n",
        " - sex: sadly this might be correlated as well\n",
        " - capital gain: what does this mean? this seems very relevant\n",
        " - capital loss: same thoughts about capital gain\n",
        " - hours per week: this is very interestin to find out if people that work more hours make more money. On one hand, first intuition tells us that that more hours -> more money. but actually someone that has a low salary per hour will work more.\n",
        " - native country: This is interesting to see as well if the persons origin has any effect, or maybe make a feature if he is an immigrant or not."
      ]
    },
    {
      "cell_type": "markdown",
      "metadata": {
        "id": "CslIwB4_QEx9"
      },
      "source": [
        "In the head I was not able to see all the classes so lets have a look:"
      ]
    },
    {
      "cell_type": "code",
      "metadata": {
        "id": "sELRvGYUQEx-",
        "colab": {
          "base_uri": "https://localhost:8080/"
        },
        "outputId": "f34941c5-9575-4467-9402-53ced7df4b54"
      },
      "source": [
        "raw_df['class'].unique()"
      ],
      "execution_count": null,
      "outputs": [
        {
          "output_type": "execute_result",
          "data": {
            "text/plain": [
              "array(['<=50K', '>50K'], dtype=object)"
            ]
          },
          "metadata": {},
          "execution_count": 4
        }
      ]
    },
    {
      "cell_type": "markdown",
      "metadata": {
        "id": "UqCl7aTzQEx-"
      },
      "source": [
        "Is the data imbalanced?"
      ]
    },
    {
      "cell_type": "code",
      "metadata": {
        "id": "NK93PQYDQEyA",
        "colab": {
          "base_uri": "https://localhost:8080/"
        },
        "outputId": "11b9a6b2-e17c-4c6a-b8af-059f3c7188b9"
      },
      "source": [
        "raw_df['class'].value_counts()"
      ],
      "execution_count": null,
      "outputs": [
        {
          "output_type": "execute_result",
          "data": {
            "text/plain": [
              "<=50K    24720\n",
              ">50K      7841\n",
              "Name: class, dtype: int64"
            ]
          },
          "metadata": {},
          "execution_count": 5
        }
      ]
    },
    {
      "cell_type": "markdown",
      "metadata": {
        "id": "7adBTIQVQEyC"
      },
      "source": [
        "It is somewhat imballanced, not terribly though. so we know that if we have a model that just predicts everyone to be in the class <=50k its accuracy will be 24720 / (24720 + 7841) ~ 0.76"
      ]
    },
    {
      "cell_type": "markdown",
      "metadata": {
        "id": "cOb74XCoQEyD"
      },
      "source": [
        "lets see all unique values for categorical variables"
      ]
    },
    {
      "cell_type": "markdown",
      "metadata": {
        "id": "6n9--kVpQEyE"
      },
      "source": [
        "OK, the columns need some renaming"
      ]
    },
    {
      "cell_type": "code",
      "metadata": {
        "id": "4rX66CtmQEyF"
      },
      "source": [
        "raw_df.rename(lambda x: x.replace(':', ''), axis=1, inplace=True)"
      ],
      "execution_count": null,
      "outputs": []
    },
    {
      "cell_type": "code",
      "metadata": {
        "id": "wgiKFSp79-Mu"
      },
      "source": [
        "all_columns = list(raw_df.columns)\n",
        "numerical_columns = list(raw_df._get_numeric_data().columns)\n",
        "categorical_columns = list(set(all_columns) - set(numerical_columns))"
      ],
      "execution_count": null,
      "outputs": []
    },
    {
      "cell_type": "code",
      "metadata": {
        "id": "1DG2vs-qQEyG",
        "colab": {
          "base_uri": "https://localhost:8080/"
        },
        "outputId": "1fb8c73d-93ae-4ffd-fb39-478204dc84bb"
      },
      "source": [
        "categorical_df = raw_df[categorical_columns]\n",
        "categorical_df.columns"
      ],
      "execution_count": null,
      "outputs": [
        {
          "output_type": "execute_result",
          "data": {
            "text/plain": [
              "Index(['race', 'marital-status', 'class', 'sex', 'native-country',\n",
              "       'occupation', 'workclass', 'relationship', 'education'],\n",
              "      dtype='object')"
            ]
          },
          "metadata": {},
          "execution_count": 8
        }
      ]
    },
    {
      "cell_type": "code",
      "metadata": {
        "id": "pxGORoWkQEyH"
      },
      "source": [
        "unique_categorical_values = {column: categorical_df[column].unique() for column in categorical_df.columns}"
      ],
      "execution_count": null,
      "outputs": []
    },
    {
      "cell_type": "code",
      "metadata": {
        "id": "NOoZx2JdQEyH",
        "colab": {
          "base_uri": "https://localhost:8080/"
        },
        "outputId": "8ea616e6-9bfc-4c15-b7fa-825f71295719"
      },
      "source": [
        "unique_categorical_values"
      ],
      "execution_count": null,
      "outputs": [
        {
          "output_type": "execute_result",
          "data": {
            "text/plain": [
              "{'class': array(['<=50K', '>50K'], dtype=object),\n",
              " 'education': array(['Bachelors', 'HS-grad', '11th', 'Masters', '9th', 'Some-college',\n",
              "        'Assoc-acdm', 'Assoc-voc', '7th-8th', 'Doctorate', 'Prof-school',\n",
              "        '5th-6th', '10th', '1st-4th', 'Preschool', '12th'], dtype=object),\n",
              " 'marital-status': array(['Never-married', 'Married-civ-spouse', 'Divorced',\n",
              "        'Married-spouse-absent', 'Separated', 'Married-AF-spouse',\n",
              "        'Widowed'], dtype=object),\n",
              " 'native-country': array(['United-States', 'Cuba', 'Jamaica', 'India', '?', 'Mexico',\n",
              "        'South', 'Puerto-Rico', 'Honduras', 'England', 'Canada', 'Germany',\n",
              "        'Iran', 'Philippines', 'Italy', 'Poland', 'Columbia', 'Cambodia',\n",
              "        'Thailand', 'Ecuador', 'Laos', 'Taiwan', 'Haiti', 'Portugal',\n",
              "        'Dominican-Republic', 'El-Salvador', 'France', 'Guatemala',\n",
              "        'China', 'Japan', 'Yugoslavia', 'Peru',\n",
              "        'Outlying-US(Guam-USVI-etc)', 'Scotland', 'Trinadad&Tobago',\n",
              "        'Greece', 'Nicaragua', 'Vietnam', 'Hong', 'Ireland', 'Hungary',\n",
              "        'Holand-Netherlands'], dtype=object),\n",
              " 'occupation': array(['Adm-clerical', 'Exec-managerial', 'Handlers-cleaners',\n",
              "        'Prof-specialty', 'Other-service', 'Sales', 'Craft-repair',\n",
              "        'Transport-moving', 'Farming-fishing', 'Machine-op-inspct',\n",
              "        'Tech-support', '?', 'Protective-serv', 'Armed-Forces',\n",
              "        'Priv-house-serv'], dtype=object),\n",
              " 'race': array(['White', 'Black', 'Asian-Pac-Islander', 'Amer-Indian-Eskimo',\n",
              "        'Other'], dtype=object),\n",
              " 'relationship': array(['Not-in-family', 'Husband', 'Wife', 'Own-child', 'Unmarried',\n",
              "        'Other-relative'], dtype=object),\n",
              " 'sex': array(['Male', 'Female'], dtype=object),\n",
              " 'workclass': array(['State-gov', 'Self-emp-not-inc', 'Private', 'Federal-gov',\n",
              "        'Local-gov', '?', 'Self-emp-inc', 'Without-pay', 'Never-worked'],\n",
              "       dtype=object)}"
            ]
          },
          "metadata": {},
          "execution_count": 10
        }
      ]
    },
    {
      "cell_type": "markdown",
      "metadata": {
        "id": "UHDec4XfQEyI"
      },
      "source": [
        "We can see there are columns with missing values:\n",
        " - workclass: '?'\n",
        " - occupation: '?', 'other-service'\n",
        " - relationship: what does 'Other-relative' mean?\n",
        " - race: 'Other'\n",
        " - native-country: '?'"
      ]
    },
    {
      "cell_type": "code",
      "metadata": {
        "id": "7iXnlnzEQEyI",
        "colab": {
          "base_uri": "https://localhost:8080/",
          "height": 300
        },
        "outputId": "ddd55543-d3e8-477c-f360-b04dcb110623"
      },
      "source": [
        "raw_df.describe()"
      ],
      "execution_count": null,
      "outputs": [
        {
          "output_type": "execute_result",
          "data": {
            "text/html": [
              "<div>\n",
              "<style scoped>\n",
              "    .dataframe tbody tr th:only-of-type {\n",
              "        vertical-align: middle;\n",
              "    }\n",
              "\n",
              "    .dataframe tbody tr th {\n",
              "        vertical-align: top;\n",
              "    }\n",
              "\n",
              "    .dataframe thead th {\n",
              "        text-align: right;\n",
              "    }\n",
              "</style>\n",
              "<table border=\"1\" class=\"dataframe\">\n",
              "  <thead>\n",
              "    <tr style=\"text-align: right;\">\n",
              "      <th></th>\n",
              "      <th>ID</th>\n",
              "      <th>age</th>\n",
              "      <th>fnlwgt</th>\n",
              "      <th>education-num</th>\n",
              "      <th>capital-gain</th>\n",
              "      <th>capital-loss</th>\n",
              "      <th>hours-per-week</th>\n",
              "    </tr>\n",
              "  </thead>\n",
              "  <tbody>\n",
              "    <tr>\n",
              "      <th>count</th>\n",
              "      <td>32561.000000</td>\n",
              "      <td>32561.000000</td>\n",
              "      <td>3.256100e+04</td>\n",
              "      <td>32561.000000</td>\n",
              "      <td>32561.000000</td>\n",
              "      <td>32561.000000</td>\n",
              "      <td>32561.000000</td>\n",
              "    </tr>\n",
              "    <tr>\n",
              "      <th>mean</th>\n",
              "      <td>16281.000000</td>\n",
              "      <td>38.581647</td>\n",
              "      <td>1.897784e+05</td>\n",
              "      <td>10.080679</td>\n",
              "      <td>1077.648844</td>\n",
              "      <td>87.303830</td>\n",
              "      <td>40.437456</td>\n",
              "    </tr>\n",
              "    <tr>\n",
              "      <th>std</th>\n",
              "      <td>9399.695394</td>\n",
              "      <td>13.640433</td>\n",
              "      <td>1.055500e+05</td>\n",
              "      <td>2.572720</td>\n",
              "      <td>7385.292085</td>\n",
              "      <td>402.960219</td>\n",
              "      <td>12.347429</td>\n",
              "    </tr>\n",
              "    <tr>\n",
              "      <th>min</th>\n",
              "      <td>1.000000</td>\n",
              "      <td>17.000000</td>\n",
              "      <td>1.228500e+04</td>\n",
              "      <td>1.000000</td>\n",
              "      <td>0.000000</td>\n",
              "      <td>0.000000</td>\n",
              "      <td>1.000000</td>\n",
              "    </tr>\n",
              "    <tr>\n",
              "      <th>25%</th>\n",
              "      <td>8141.000000</td>\n",
              "      <td>28.000000</td>\n",
              "      <td>1.178270e+05</td>\n",
              "      <td>9.000000</td>\n",
              "      <td>0.000000</td>\n",
              "      <td>0.000000</td>\n",
              "      <td>40.000000</td>\n",
              "    </tr>\n",
              "    <tr>\n",
              "      <th>50%</th>\n",
              "      <td>16281.000000</td>\n",
              "      <td>37.000000</td>\n",
              "      <td>1.783560e+05</td>\n",
              "      <td>10.000000</td>\n",
              "      <td>0.000000</td>\n",
              "      <td>0.000000</td>\n",
              "      <td>40.000000</td>\n",
              "    </tr>\n",
              "    <tr>\n",
              "      <th>75%</th>\n",
              "      <td>24421.000000</td>\n",
              "      <td>48.000000</td>\n",
              "      <td>2.370510e+05</td>\n",
              "      <td>12.000000</td>\n",
              "      <td>0.000000</td>\n",
              "      <td>0.000000</td>\n",
              "      <td>45.000000</td>\n",
              "    </tr>\n",
              "    <tr>\n",
              "      <th>max</th>\n",
              "      <td>32561.000000</td>\n",
              "      <td>90.000000</td>\n",
              "      <td>1.484705e+06</td>\n",
              "      <td>16.000000</td>\n",
              "      <td>99999.000000</td>\n",
              "      <td>4356.000000</td>\n",
              "      <td>99.000000</td>\n",
              "    </tr>\n",
              "  </tbody>\n",
              "</table>\n",
              "</div>"
            ],
            "text/plain": [
              "                 ID           age  ...  capital-loss  hours-per-week\n",
              "count  32561.000000  32561.000000  ...  32561.000000    32561.000000\n",
              "mean   16281.000000     38.581647  ...     87.303830       40.437456\n",
              "std     9399.695394     13.640433  ...    402.960219       12.347429\n",
              "min        1.000000     17.000000  ...      0.000000        1.000000\n",
              "25%     8141.000000     28.000000  ...      0.000000       40.000000\n",
              "50%    16281.000000     37.000000  ...      0.000000       40.000000\n",
              "75%    24421.000000     48.000000  ...      0.000000       45.000000\n",
              "max    32561.000000     90.000000  ...   4356.000000       99.000000\n",
              "\n",
              "[8 rows x 7 columns]"
            ]
          },
          "metadata": {},
          "execution_count": 11
        }
      ]
    },
    {
      "cell_type": "code",
      "metadata": {
        "colab": {
          "base_uri": "https://localhost:8080/",
          "height": 1000
        },
        "id": "V02M7Xrb3I_r",
        "outputId": "1ea99a3e-3af0-4f27-b267-a33a7f9be80a"
      },
      "source": [
        "for variable in numerical_columns:\n",
        "  raw_df[variable].plot.hist(bins=12, alpha=0.5, title=variable)\n",
        "  plt.show()"
      ],
      "execution_count": null,
      "outputs": [
        {
          "output_type": "display_data",
          "data": {
            "image/png": "[encoded data removed]",
            "text/plain": [
              "<Figure size 432x288 with 1 Axes>"
            ]
          },
          "metadata": {
            "needs_background": "light"
          }
        },
        {
          "output_type": "display_data",
          "data": {
            "image/png": "[encoded data removed]",
            "text/plain": [
              "<Figure size 432x288 with 1 Axes>"
            ]
          },
          "metadata": {
            "needs_background": "light"
          }
        },
        {
          "output_type": "display_data",
          "data": {
            "image/png": "[encoded data removed]",
            "text/plain": [
              "<Figure size 432x288 with 1 Axes>"
            ]
          },
          "metadata": {
            "needs_background": "light"
          }
        },
        {
          "output_type": "display_data",
          "data": {
            "image/png": "[encoded data removed]",
            "text/plain": [
              "<Figure size 432x288 with 1 Axes>"
            ]
          },
          "metadata": {
            "needs_background": "light"
          }
        },
        {
          "output_type": "display_data",
          "data": {
            "image/png": "[encoded data removed]",
            "text/plain": [
              "<Figure size 432x288 with 1 Axes>"
            ]
          },
          "metadata": {
            "needs_background": "light"
          }
        },
        {
          "output_type": "display_data",
          "data": {
            "image/png": "[encoded data removed]",
            "text/plain": [
              "<Figure size 432x288 with 1 Axes>"
            ]
          },
          "metadata": {
            "needs_background": "light"
          }
        },
        {
          "output_type": "display_data",
          "data": {
            "image/png": "[encoded data removed]",
            "text/plain": [
              "<Figure size 432x288 with 1 Axes>"
            ]
          },
          "metadata": {
            "needs_background": "light"
          }
        }
      ]
    },
    {
      "cell_type": "markdown",
      "metadata": {
        "id": "czsaZ1n89rf-"
      },
      "source": [
        "Capital loss needs to be further investigated. It is possible that the results we see here is due to the outliars."
      ]
    },
    {
      "cell_type": "code",
      "metadata": {
        "colab": {
          "base_uri": "https://localhost:8080/"
        },
        "id": "0W18sMDc96jh",
        "outputId": "03351086-f2ea-4aa5-b089-36eb67ceea81"
      },
      "source": [
        "raw_df[raw_df['capital-loss'] == 0].shape[0]"
      ],
      "execution_count": null,
      "outputs": [
        {
          "output_type": "execute_result",
          "data": {
            "text/plain": [
              "31042"
            ]
          },
          "metadata": {},
          "execution_count": 13
        }
      ]
    },
    {
      "cell_type": "code",
      "metadata": {
        "colab": {
          "base_uri": "https://localhost:8080/"
        },
        "id": "3rzPBRrZ_XTI",
        "outputId": "9db376cf-440f-4083-a5c5-0f3e378d4977"
      },
      "source": [
        "raw_df[raw_df['capital-loss'] != 0].shape[0]"
      ],
      "execution_count": null,
      "outputs": [
        {
          "output_type": "execute_result",
          "data": {
            "text/plain": [
              "1519"
            ]
          },
          "metadata": {},
          "execution_count": 14
        }
      ]
    },
    {
      "cell_type": "code",
      "metadata": {
        "colab": {
          "base_uri": "https://localhost:8080/"
        },
        "id": "rkAjVwj7_uN4",
        "outputId": "f7b59ac7-fb13-4f4d-b847-f1f36ec26f9b"
      },
      "source": [
        "raw_df[raw_df['capital-loss'] != 0]['class'].value_counts()"
      ],
      "execution_count": null,
      "outputs": [
        {
          "output_type": "execute_result",
          "data": {
            "text/plain": [
              ">50K     773\n",
              "<=50K    746\n",
              "Name: class, dtype: int64"
            ]
          },
          "metadata": {},
          "execution_count": 15
        }
      ]
    },
    {
      "cell_type": "code",
      "metadata": {
        "colab": {
          "base_uri": "https://localhost:8080/"
        },
        "id": "apoWqkJB_6G1",
        "outputId": "155441f3-57ef-43e0-fdf9-0160740ba71d"
      },
      "source": [
        "raw_df[raw_df['capital-gain'] == 0].shape[0]"
      ],
      "execution_count": null,
      "outputs": [
        {
          "output_type": "execute_result",
          "data": {
            "text/plain": [
              "29849"
            ]
          },
          "metadata": {},
          "execution_count": 16
        }
      ]
    },
    {
      "cell_type": "code",
      "metadata": {
        "colab": {
          "base_uri": "https://localhost:8080/"
        },
        "id": "7aKvH_yvABQs",
        "outputId": "9f9580fb-1350-47f5-b678-e54f10163213"
      },
      "source": [
        "raw_df[raw_df['capital-gain'] != 0].shape[0]"
      ],
      "execution_count": null,
      "outputs": [
        {
          "output_type": "execute_result",
          "data": {
            "text/plain": [
              "2712"
            ]
          },
          "metadata": {},
          "execution_count": 17
        }
      ]
    },
    {
      "cell_type": "code",
      "metadata": {
        "colab": {
          "base_uri": "https://localhost:8080/"
        },
        "id": "kO1zrusaANEs",
        "outputId": "8e3dc292-6259-4877-b91c-9a663621e8bc"
      },
      "source": [
        "raw_df[raw_df['capital-gain'] != 0]['class'].value_counts()"
      ],
      "execution_count": null,
      "outputs": [
        {
          "output_type": "execute_result",
          "data": {
            "text/plain": [
              ">50K     1677\n",
              "<=50K    1035\n",
              "Name: class, dtype: int64"
            ]
          },
          "metadata": {},
          "execution_count": 18
        }
      ]
    },
    {
      "cell_type": "markdown",
      "metadata": {
        "id": "huucfV8XBGN8"
      },
      "source": [
        "It seems that capital loss and capital gain can be removed."
      ]
    },
    {
      "cell_type": "code",
      "metadata": {
        "id": "8q18bVtbQEyM",
        "colab": {
          "base_uri": "https://localhost:8080/",
          "height": 1000
        },
        "outputId": "a3c1463f-17c9-4632-8891-ba6bb1266034"
      },
      "source": [
        "for variable in categorical_columns:\n",
        "  raw_df[variable].value_counts().plot(kind='bar', title=variable)\n",
        "  plt.show()"
      ],
      "execution_count": null,
      "outputs": [
        {
          "output_type": "display_data",
          "data": {
            "image/png": "[encoded data removed]",
            "text/plain": [
              "<Figure size 432x288 with 1 Axes>"
            ]
          },
          "metadata": {
            "needs_background": "light"
          }
        },
        {
          "output_type": "display_data",
          "data": {
            "image/png": "[encoded data removed]",
            "text/plain": [
              "<Figure size 432x288 with 1 Axes>"
            ]
          },
          "metadata": {
            "needs_background": "light"
          }
        },
        {
          "output_type": "display_data",
          "data": {
            "image/png": "[encoded data removed]",
            "text/plain": [
              "<Figure size 432x288 with 1 Axes>"
            ]
          },
          "metadata": {
            "needs_background": "light"
          }
        },
        {
          "output_type": "display_data",
          "data": {
            "image/png": "[encoded data removed]",
            "text/plain": [
              "<Figure size 432x288 with 1 Axes>"
            ]
          },
          "metadata": {
            "needs_background": "light"
          }
        },
        {
          "output_type": "display_data",
          "data": {
            "image/png": "[encoded data removed]",
            "text/plain": [
              "<Figure size 432x288 with 1 Axes>"
            ]
          },
          "metadata": {
            "needs_background": "light"
          }
        },
        {
          "output_type": "display_data",
          "data": {
            "image/png": "[encoded data removed]",
            "text/plain": [
              "<Figure size 432x288 with 1 Axes>"
            ]
          },
          "metadata": {
            "needs_background": "light"
          }
        },
        {
          "output_type": "display_data",
          "data": {
            "image/png": "[encoded data removed]",
            "text/plain": [
              "<Figure size 432x288 with 1 Axes>"
            ]
          },
          "metadata": {
            "needs_background": "light"
          }
        },
        {
          "output_type": "display_data",
          "data": {
            "image/png": "[encoded data removed]",
            "text/plain": [
              "<Figure size 432x288 with 1 Axes>"
            ]
          },
          "metadata": {
            "needs_background": "light"
          }
        },
        {
          "output_type": "display_data",
          "data": {
            "image/png": "[encoded data removed]",
            "text/plain": [
              "<Figure size 432x288 with 1 Axes>"
            ]
          },
          "metadata": {
            "needs_background": "light"
          }
        }
      ]
    },
    {
      "cell_type": "markdown",
      "metadata": {
        "id": "EYjsbIesBgDG"
      },
      "source": [
        "native-country can be removed.\n",
        "We might be able to remove race as well, lets have a closer look."
      ]
    },
    {
      "cell_type": "code",
      "metadata": {
        "colab": {
          "base_uri": "https://localhost:8080/"
        },
        "id": "k3u3s3LwB0uL",
        "outputId": "07746bc5-53f0-4a3b-fa80-f9f10cb9e989"
      },
      "source": [
        "raw_df[raw_df['race'] == 'Black']['class'].value_counts()"
      ],
      "execution_count": null,
      "outputs": [
        {
          "output_type": "execute_result",
          "data": {
            "text/plain": [
              "<=50K    2737\n",
              ">50K      387\n",
              "Name: class, dtype: int64"
            ]
          },
          "metadata": {},
          "execution_count": 20
        }
      ]
    },
    {
      "cell_type": "code",
      "metadata": {
        "colab": {
          "base_uri": "https://localhost:8080/"
        },
        "id": "1w5C_58HGJd-",
        "outputId": "11304c95-a722-46f9-a312-93ef2b9e9594"
      },
      "source": [
        "raw_df[raw_df['race'] == 'White']['class'].value_counts()"
      ],
      "execution_count": null,
      "outputs": [
        {
          "output_type": "execute_result",
          "data": {
            "text/plain": [
              "<=50K    20699\n",
              ">50K      7117\n",
              "Name: class, dtype: int64"
            ]
          },
          "metadata": {},
          "execution_count": 21
        }
      ]
    },
    {
      "cell_type": "markdown",
      "metadata": {
        "id": "pzSP7qEUCLEP"
      },
      "source": [
        "I will not drop race, it seems that it might make somewhat of a difference"
      ]
    },
    {
      "cell_type": "markdown",
      "metadata": {
        "id": "oMz3L4-GTkVD"
      },
      "source": [
        "Notice that workclass is a highly imballanced variable"
      ]
    },
    {
      "cell_type": "code",
      "metadata": {
        "colab": {
          "base_uri": "https://localhost:8080/"
        },
        "id": "D-7STZS95Ad2",
        "outputId": "af9cea6c-ca04-40b8-ac27-7736d595ab85"
      },
      "source": [
        "map_target = {'<=50K': 0, '>50K': 1}\n",
        "raw_df['class_num'] = raw_df['class'].map(map_target)\n",
        "average_class_by_occupation = raw_df.groupby(['occupation']).mean()['class_num']\n",
        "average_class_by_occupation"
      ],
      "execution_count": null,
      "outputs": [
        {
          "output_type": "execute_result",
          "data": {
            "text/plain": [
              "occupation\n",
              "?                    0.103635\n",
              "Adm-clerical         0.134483\n",
              "Armed-Forces         0.111111\n",
              "Craft-repair         0.226641\n",
              "Exec-managerial      0.484014\n",
              "Farming-fishing      0.115694\n",
              "Handlers-cleaners    0.062774\n",
              "Machine-op-inspct    0.124875\n",
              "Other-service        0.041578\n",
              "Priv-house-serv      0.006711\n",
              "Prof-specialty       0.449034\n",
              "Protective-serv      0.325116\n",
              "Sales                0.269315\n",
              "Tech-support         0.304957\n",
              "Transport-moving     0.200376\n",
              "Name: class_num, dtype: float64"
            ]
          },
          "metadata": {},
          "execution_count": 22
        }
      ]
    },
    {
      "cell_type": "markdown",
      "metadata": {
        "id": "Vp_A1NR_1hpo"
      },
      "source": [
        "## Testing for correlation"
      ]
    },
    {
      "cell_type": "markdown",
      "metadata": {
        "id": "TpmnClcK1pZq"
      },
      "source": [
        "We would like to test for correlation between all the different columns (irrelevant of their type).\n",
        "An explanatory variable can potentially be ruled out in one of the following cases:\n",
        " - High variance between the variable and another explanatory variable \n",
        " - Low variance between the variable and the target variable"
      ]
    },
    {
      "cell_type": "markdown",
      "metadata": {
        "id": "GRNKBpSz3Giv"
      },
      "source": [
        "### Numerical vs Numerical"
      ]
    },
    {
      "cell_type": "code",
      "metadata": {
        "colab": {
          "base_uri": "https://localhost:8080/",
          "height": 354
        },
        "id": "Gjsmd6-ZTzkk",
        "outputId": "73474011-334e-4a08-91ba-97dd9056cfb7"
      },
      "source": [
        "sns.heatmap(raw_df.corr())"
      ],
      "execution_count": null,
      "outputs": [
        {
          "output_type": "execute_result",
          "data": {
            "text/plain": [
              "<matplotlib.axes._subplots.AxesSubplot at 0x7fd79dd62b10>"
            ]
          },
          "metadata": {},
          "execution_count": 23
        },
        {
          "output_type": "display_data",
          "data": {
            "image/png": "[encoded data removed]",
            "text/plain": [
              "<Figure size 432x288 with 2 Axes>"
            ]
          },
          "metadata": {
            "needs_background": "light"
          }
        }
      ]
    },
    {
      "cell_type": "markdown",
      "metadata": {
        "id": "_pu7jojjjbz9"
      },
      "source": [
        "It seems that the numerical categoriesare not very strongly correlated with each other"
      ]
    },
    {
      "cell_type": "markdown",
      "metadata": {
        "id": "4DesOxbQjhtR"
      },
      "source": [
        "TODO: \n",
        " - get correlation between categorical->numerical and catigorical->categorical\n",
        " - for every column with missing data, count how many rows have missing data\n"
      ]
    },
    {
      "cell_type": "markdown",
      "metadata": {
        "id": "UcH979fTpOQH"
      },
      "source": [
        "### Categorical vs Numerical"
      ]
    },
    {
      "cell_type": "code",
      "metadata": {
        "id": "RSUI6VxvprqQ",
        "colab": {
          "base_uri": "https://localhost:8080/"
        },
        "outputId": "7c84ed15-d326-4c23-9a51-ee186ea8caff"
      },
      "source": [
        "cat_num_corr_f_df = pd.DataFrame(columns=numerical_columns, index=categorical_columns)\n",
        "cat_num_corr_p_df = pd.DataFrame(columns=numerical_columns, index=categorical_columns)\n",
        "\n",
        "for numerical_variable, categorical_variable in itertools.product(numerical_columns, categorical_columns):\n",
        "  # print(raw_df[numerical_variable][raw_df[categorical_variable]])\n",
        "  groups = (raw_df[numerical_variable][raw_df[categorical_variable] == category] for category in unique_categorical_values[categorical_variable])\n",
        "  F, p = stats.f_oneway(*groups)\n",
        "  cat_num_corr_f_df[numerical_variable][categorical_variable] = F if F != float('inf') else 5000\n",
        "  cat_num_corr_p_df[numerical_variable][categorical_variable] = p"
      ],
      "execution_count": null,
      "outputs": [
        {
          "output_type": "stream",
          "name": "stderr",
          "text": [
            "/usr/local/lib/python3.7/dist-packages/scipy/stats/stats.py:3349: RuntimeWarning: divide by zero encountered in double_scalars\n",
            "  f = msb / msw\n"
          ]
        }
      ]
    },
    {
      "cell_type": "code",
      "metadata": {
        "colab": {
          "base_uri": "https://localhost:8080/",
          "height": 332
        },
        "id": "DOoHhZB_GX2g",
        "outputId": "d2fbca1f-f2f5-4450-d119-ae3df85062f7"
      },
      "source": [
        "cat_num_corr_f_df"
      ],
      "execution_count": null,
      "outputs": [
        {
          "output_type": "execute_result",
          "data": {
            "text/html": [
              "<div>\n",
              "<style scoped>\n",
              "    .dataframe tbody tr th:only-of-type {\n",
              "        vertical-align: middle;\n",
              "    }\n",
              "\n",
              "    .dataframe tbody tr th {\n",
              "        vertical-align: top;\n",
              "    }\n",
              "\n",
              "    .dataframe thead th {\n",
              "        text-align: right;\n",
              "    }\n",
              "</style>\n",
              "<table border=\"1\" class=\"dataframe\">\n",
              "  <thead>\n",
              "    <tr style=\"text-align: right;\">\n",
              "      <th></th>\n",
              "      <th>ID</th>\n",
              "      <th>age</th>\n",
              "      <th>fnlwgt</th>\n",
              "      <th>education-num</th>\n",
              "      <th>capital-gain</th>\n",
              "      <th>capital-loss</th>\n",
              "      <th>hours-per-week</th>\n",
              "    </tr>\n",
              "  </thead>\n",
              "  <tbody>\n",
              "    <tr>\n",
              "      <th>race</th>\n",
              "      <td>0.505818</td>\n",
              "      <td>15.493</td>\n",
              "      <td>163.795</td>\n",
              "      <td>99.0479</td>\n",
              "      <td>4.46298</td>\n",
              "      <td>5.81001</td>\n",
              "      <td>24.4079</td>\n",
              "    </tr>\n",
              "    <tr>\n",
              "      <th>marital-status</th>\n",
              "      <td>0.269353</td>\n",
              "      <td>2659.74</td>\n",
              "      <td>16.1077</td>\n",
              "      <td>73.3478</td>\n",
              "      <td>41.5779</td>\n",
              "      <td>36.474</td>\n",
              "      <td>363.651</td>\n",
              "    </tr>\n",
              "    <tr>\n",
              "      <th>class</th>\n",
              "      <td>0.950753</td>\n",
              "      <td>1886.71</td>\n",
              "      <td>2.91559</td>\n",
              "      <td>4120.1</td>\n",
              "      <td>1709.15</td>\n",
              "      <td>754.83</td>\n",
              "      <td>1813.39</td>\n",
              "    </tr>\n",
              "    <tr>\n",
              "      <th>sex</th>\n",
              "      <td>0.1989</td>\n",
              "      <td>258.969</td>\n",
              "      <td>23.5035</td>\n",
              "      <td>4.91063</td>\n",
              "      <td>76.7029</td>\n",
              "      <td>67.7456</td>\n",
              "      <td>1807.06</td>\n",
              "    </tr>\n",
              "    <tr>\n",
              "      <th>native-country</th>\n",
              "      <td>1.2559</td>\n",
              "      <td>6.24223</td>\n",
              "      <td>20.4728</td>\n",
              "      <td>65.882</td>\n",
              "      <td>1.0088</td>\n",
              "      <td>2.26424</td>\n",
              "      <td>1.87712</td>\n",
              "    </tr>\n",
              "    <tr>\n",
              "      <th>occupation</th>\n",
              "      <td>1.56151</td>\n",
              "      <td>83.7469</td>\n",
              "      <td>7.1423</td>\n",
              "      <td>1043.4</td>\n",
              "      <td>33.7164</td>\n",
              "      <td>16.9631</td>\n",
              "      <td>249.712</td>\n",
              "    </tr>\n",
              "    <tr>\n",
              "      <th>workclass</th>\n",
              "      <td>0.767635</td>\n",
              "      <td>203.738</td>\n",
              "      <td>11.2978</td>\n",
              "      <td>164.89</td>\n",
              "      <td>44.7238</td>\n",
              "      <td>8.99856</td>\n",
              "      <td>223.513</td>\n",
              "    </tr>\n",
              "    <tr>\n",
              "      <th>relationship</th>\n",
              "      <td>1.16891</td>\n",
              "      <td>1889.03</td>\n",
              "      <td>9.0602</td>\n",
              "      <td>173.067</td>\n",
              "      <td>53.6684</td>\n",
              "      <td>50.467</td>\n",
              "      <td>692.594</td>\n",
              "    </tr>\n",
              "    <tr>\n",
              "      <th>education</th>\n",
              "      <td>1.25212</td>\n",
              "      <td>120.161</td>\n",
              "      <td>9.8161</td>\n",
              "      <td>5000</td>\n",
              "      <td>88.4118</td>\n",
              "      <td>21.5646</td>\n",
              "      <td>85.1091</td>\n",
              "    </tr>\n",
              "  </tbody>\n",
              "</table>\n",
              "</div>"
            ],
            "text/plain": [
              "                      ID      age  ... capital-loss hours-per-week\n",
              "race            0.505818   15.493  ...      5.81001        24.4079\n",
              "marital-status  0.269353  2659.74  ...       36.474        363.651\n",
              "class           0.950753  1886.71  ...       754.83        1813.39\n",
              "sex               0.1989  258.969  ...      67.7456        1807.06\n",
              "native-country    1.2559  6.24223  ...      2.26424        1.87712\n",
              "occupation       1.56151  83.7469  ...      16.9631        249.712\n",
              "workclass       0.767635  203.738  ...      8.99856        223.513\n",
              "relationship     1.16891  1889.03  ...       50.467        692.594\n",
              "education        1.25212  120.161  ...      21.5646        85.1091\n",
              "\n",
              "[9 rows x 7 columns]"
            ]
          },
          "metadata": {},
          "execution_count": 25
        }
      ]
    },
    {
      "cell_type": "code",
      "metadata": {
        "colab": {
          "base_uri": "https://localhost:8080/",
          "height": 332
        },
        "id": "Ki6sahvmGdDD",
        "outputId": "bb8fcd8b-1d20-49d9-ec0a-00a21e0cd201"
      },
      "source": [
        "cat_num_corr_p_df"
      ],
      "execution_count": null,
      "outputs": [
        {
          "output_type": "execute_result",
          "data": {
            "text/html": [
              "<div>\n",
              "<style scoped>\n",
              "    .dataframe tbody tr th:only-of-type {\n",
              "        vertical-align: middle;\n",
              "    }\n",
              "\n",
              "    .dataframe tbody tr th {\n",
              "        vertical-align: top;\n",
              "    }\n",
              "\n",
              "    .dataframe thead th {\n",
              "        text-align: right;\n",
              "    }\n",
              "</style>\n",
              "<table border=\"1\" class=\"dataframe\">\n",
              "  <thead>\n",
              "    <tr style=\"text-align: right;\">\n",
              "      <th></th>\n",
              "      <th>ID</th>\n",
              "      <th>age</th>\n",
              "      <th>fnlwgt</th>\n",
              "      <th>education-num</th>\n",
              "      <th>capital-gain</th>\n",
              "      <th>capital-loss</th>\n",
              "      <th>hours-per-week</th>\n",
              "    </tr>\n",
              "  </thead>\n",
              "  <tbody>\n",
              "    <tr>\n",
              "      <th>race</th>\n",
              "      <td>0.731478</td>\n",
              "      <td>1.14783e-12</td>\n",
              "      <td>4.46442e-139</td>\n",
              "      <td>6.04256e-84</td>\n",
              "      <td>0.00132167</td>\n",
              "      <td>0.00011378</td>\n",
              "      <td>3.36798e-20</td>\n",
              "    </tr>\n",
              "    <tr>\n",
              "      <th>marital-status</th>\n",
              "      <td>0.951407</td>\n",
              "      <td>0</td>\n",
              "      <td>1.34081e-18</td>\n",
              "      <td>2.83761e-91</td>\n",
              "      <td>8.44733e-51</td>\n",
              "      <td>2.61239e-44</td>\n",
              "      <td>0</td>\n",
              "    </tr>\n",
              "    <tr>\n",
              "      <th>class</th>\n",
              "      <td>0.329535</td>\n",
              "      <td>0</td>\n",
              "      <td>0.0877367</td>\n",
              "      <td>0</td>\n",
              "      <td>0</td>\n",
              "      <td>2.68655e-164</td>\n",
              "      <td>0</td>\n",
              "    </tr>\n",
              "    <tr>\n",
              "      <th>sex</th>\n",
              "      <td>0.655613</td>\n",
              "      <td>4.82399e-58</td>\n",
              "      <td>1.25258e-06</td>\n",
              "      <td>0.0266988</td>\n",
              "      <td>2.08121e-18</td>\n",
              "      <td>1.92868e-16</td>\n",
              "      <td>0</td>\n",
              "    </tr>\n",
              "    <tr>\n",
              "      <th>native-country</th>\n",
              "      <td>0.126381</td>\n",
              "      <td>1.01905e-32</td>\n",
              "      <td>1.84856e-147</td>\n",
              "      <td>0</td>\n",
              "      <td>0.454925</td>\n",
              "      <td>6.99666e-06</td>\n",
              "      <td>0.000575248</td>\n",
              "    </tr>\n",
              "    <tr>\n",
              "      <th>occupation</th>\n",
              "      <td>0.081584</td>\n",
              "      <td>3.521e-237</td>\n",
              "      <td>5.05079e-15</td>\n",
              "      <td>0</td>\n",
              "      <td>3.89617e-91</td>\n",
              "      <td>1.63136e-42</td>\n",
              "      <td>0</td>\n",
              "    </tr>\n",
              "    <tr>\n",
              "      <th>workclass</th>\n",
              "      <td>0.631434</td>\n",
              "      <td>0</td>\n",
              "      <td>4.10817e-16</td>\n",
              "      <td>6.88471e-274</td>\n",
              "      <td>5.05278e-72</td>\n",
              "      <td>2.04015e-12</td>\n",
              "      <td>0</td>\n",
              "    </tr>\n",
              "    <tr>\n",
              "      <th>relationship</th>\n",
              "      <td>0.321665</td>\n",
              "      <td>0</td>\n",
              "      <td>1.27762e-08</td>\n",
              "      <td>2.31271e-182</td>\n",
              "      <td>1.0876e-55</td>\n",
              "      <td>2.78826e-52</td>\n",
              "      <td>0</td>\n",
              "    </tr>\n",
              "    <tr>\n",
              "      <th>education</th>\n",
              "      <td>0.223869</td>\n",
              "      <td>0</td>\n",
              "      <td>9.76877e-24</td>\n",
              "      <td>0</td>\n",
              "      <td>4.97922e-268</td>\n",
              "      <td>1.52052e-59</td>\n",
              "      <td>8.67251e-258</td>\n",
              "    </tr>\n",
              "  </tbody>\n",
              "</table>\n",
              "</div>"
            ],
            "text/plain": [
              "                      ID          age  ...  capital-loss hours-per-week\n",
              "race            0.731478  1.14783e-12  ...    0.00011378    3.36798e-20\n",
              "marital-status  0.951407            0  ...   2.61239e-44              0\n",
              "class           0.329535            0  ...  2.68655e-164              0\n",
              "sex             0.655613  4.82399e-58  ...   1.92868e-16              0\n",
              "native-country  0.126381  1.01905e-32  ...   6.99666e-06    0.000575248\n",
              "occupation      0.081584   3.521e-237  ...   1.63136e-42              0\n",
              "workclass       0.631434            0  ...   2.04015e-12              0\n",
              "relationship    0.321665            0  ...   2.78826e-52              0\n",
              "education       0.223869            0  ...   1.52052e-59   8.67251e-258\n",
              "\n",
              "[9 rows x 7 columns]"
            ]
          },
          "metadata": {},
          "execution_count": 26
        }
      ]
    },
    {
      "cell_type": "code",
      "metadata": {
        "colab": {
          "base_uri": "https://localhost:8080/",
          "height": 372
        },
        "id": "-sgSHsh8C_Al",
        "outputId": "6ec7dd52-595d-4873-f053-55926d7f3efc"
      },
      "source": [
        "cmap = sns.cm.rocket_r\n",
        "\n",
        "stacked = cat_num_corr_f_df.stack()\n",
        "min_value = stacked.min()\n",
        "max_value = float(stacked.max())\n",
        "print(max_value)\n",
        "sns.heatmap(cat_num_corr_f_df.astype(float), vmin=min_value, vmax=max_value, cmap=cmap)"
      ],
      "execution_count": null,
      "outputs": [
        {
          "output_type": "stream",
          "name": "stdout",
          "text": [
            "5000.0\n"
          ]
        },
        {
          "output_type": "execute_result",
          "data": {
            "text/plain": [
              "<matplotlib.axes._subplots.AxesSubplot at 0x7fd79d790a50>"
            ]
          },
          "metadata": {},
          "execution_count": 27
        },
        {
          "output_type": "display_data",
          "data": {
            "image/png": "[encoded data removed]",
            "text/plain": [
              "<Figure size 432x288 with 2 Axes>"
            ]
          },
          "metadata": {
            "needs_background": "light"
          }
        }
      ]
    },
    {
      "cell_type": "markdown",
      "metadata": {
        "id": "AlV3fVS4SwIg"
      },
      "source": [
        "As expected, education is highly correlated with education-num (at first it actually got inf but I had to modify that in order for the heatmap to work).\n",
        "\n",
        "Other correlated pairs of categorical-numerical variables:\n",
        "\n",
        "Explanatory variables with themselves:\n",
        " - (marital-status, age)\n",
        " - (occupation, education-num)\n",
        " - (relationship, age)\n",
        " - (sex, hours-per-week)\n",
        "\n",
        "Explanatory variables with target variable:\n",
        " - (class, age)\n",
        " - (class, education-num)\n",
        " - (class, capital-gain)\n",
        " - (class, hours-per-week)"
      ]
    },
    {
      "cell_type": "markdown",
      "metadata": {
        "id": "ZgkshqADEl7F"
      },
      "source": [
        "We need to decide which variable we would like to keep, education or education-num. According to the one-way-ANOVA test, education-num is strongly correlated to class. since class is a categorical variable and education-num has a 1x1 correspondence with education, then education will be correlated as well.\n",
        "\n",
        "In this case, I will chose the numeric value over the categorical value since I will be using a tree based method and with numerical values it can chose to make more robust splits this way.\n",
        "\n",
        "capital-gain shows here some correlation with class, so we will not remove it."
      ]
    },
    {
      "cell_type": "code",
      "metadata": {
        "colab": {
          "base_uri": "https://localhost:8080/",
          "height": 350
        },
        "id": "0y7oEr8DIBpW",
        "outputId": "f231ae97-99f6-4e4a-c3ca-9a58c475a272"
      },
      "source": [
        "sns.heatmap(cat_num_corr_p_df.astype(float), cmap=cmap)"
      ],
      "execution_count": null,
      "outputs": [
        {
          "output_type": "execute_result",
          "data": {
            "text/plain": [
              "<matplotlib.axes._subplots.AxesSubplot at 0x7fd79d7b2450>"
            ]
          },
          "metadata": {},
          "execution_count": 28
        },
        {
          "output_type": "display_data",
          "data": {
            "image/png": "[encoded data removed]",
            "text/plain": [
              "<Figure size 432x288 with 2 Axes>"
            ]
          },
          "metadata": {
            "needs_background": "light"
          }
        }
      ]
    },
    {
      "cell_type": "markdown",
      "metadata": {
        "id": "tqfQCp8pUSDp"
      },
      "source": [
        "p-values are nice and small for the correlated variables"
      ]
    },
    {
      "cell_type": "markdown",
      "metadata": {
        "id": "HXmWBOW1JRNh"
      },
      "source": [
        "Technically we should check that the test assumptions hold for each of the variables, but I will skip that for now:\n",
        " - Population distributions are normal\n",
        " - Samples have equal variances\n",
        " - Independence (we know this is true by design)"
      ]
    },
    {
      "cell_type": "markdown",
      "metadata": {
        "id": "0olF8M9dIyyk"
      },
      "source": [
        "According to these results it seems I can drop fnlwgt as well"
      ]
    },
    {
      "cell_type": "markdown",
      "metadata": {
        "id": "7NxSI80KVEUR"
      },
      "source": [
        "### Categorical vs Categorical"
      ]
    },
    {
      "cell_type": "markdown",
      "metadata": {
        "id": "-0dhiZcIc6IE"
      },
      "source": [
        "We will perform a chisquare test, the assumptions:\n",
        " - The two samples are independent\n",
        " - No expected cell count is = 0\n",
        " - No more than 20% of the cells have and expected cell count < 5\n",
        "\n",
        "The last assumption needs to be tested for, we will skip it for now"
      ]
    },
    {
      "cell_type": "code",
      "metadata": {
        "id": "5-trWpyrZCds"
      },
      "source": [
        "# taken from https://www.kaggle.com/akshay22071995/alone-in-the-woods-using-theil-s-u-for-survival\n",
        "\n",
        "def conditional_entropy(x,y):\n",
        "    # entropy of x given y\n",
        "    y_counter = Counter(y)\n",
        "    xy_counter = Counter(list(zip(x,y)))\n",
        "    total_occurrences = sum(y_counter.values())\n",
        "    entropy = 0\n",
        "    for xy in xy_counter.keys():\n",
        "        p_xy = xy_counter[xy] / total_occurrences\n",
        "        p_y = y_counter[xy[1]] / total_occurrences\n",
        "        entropy += p_xy * math.log(p_y/p_xy)\n",
        "    return entropy\n",
        "\n",
        "def theil_u(x,y):\n",
        "    s_xy = conditional_entropy(x,y)\n",
        "    x_counter = Counter(x)\n",
        "    total_occurrences = sum(x_counter.values())\n",
        "    p_x = list(map(lambda n: n/total_occurrences, x_counter.values()))\n",
        "    s_x = stats.entropy(p_x)\n",
        "    if s_x == 0:\n",
        "        return 1\n",
        "    else:\n",
        "        return (s_x - s_xy) / s_x"
      ],
      "execution_count": null,
      "outputs": []
    },
    {
      "cell_type": "code",
      "metadata": {
        "id": "PceXfmEUVILz"
      },
      "source": [
        "chi2_df = pd.DataFrame(columns=categorical_columns, index=categorical_columns)\n",
        "theil_df = pd.DataFrame(columns=categorical_columns, index=categorical_columns)\n",
        "# cat_corr_p_df = pd.DataFrame(columns=categorical_columns, index=categorical_columns)\n",
        "for cat1, cat2 in itertools.product(categorical_columns, categorical_columns):\n",
        "  crosstab = pd.crosstab(raw_df[cat1], raw_df[cat2])\n",
        "  x, _, _, _ = stats.chi2_contingency(crosstab)\n",
        "  u = theil_u(raw_df[cat1].tolist(), raw_df[cat2].tolist())\n",
        "  if cat1 == cat2:\n",
        "    x = 40000\n",
        "  chi2_df[cat1][cat2] = x\n",
        "  theil_df[cat1][cat2] = u"
      ],
      "execution_count": null,
      "outputs": []
    },
    {
      "cell_type": "code",
      "metadata": {
        "colab": {
          "base_uri": "https://localhost:8080/",
          "height": 332
        },
        "id": "A9AdjUDCbpfq",
        "outputId": "8e4e774a-6fae-4971-eb58-5aadd6c90113"
      },
      "source": [
        "chi2_df"
      ],
      "execution_count": null,
      "outputs": [
        {
          "output_type": "execute_result",
          "data": {
            "text/html": [
              "<div>\n",
              "<style scoped>\n",
              "    .dataframe tbody tr th:only-of-type {\n",
              "        vertical-align: middle;\n",
              "    }\n",
              "\n",
              "    .dataframe tbody tr th {\n",
              "        vertical-align: top;\n",
              "    }\n",
              "\n",
              "    .dataframe thead th {\n",
              "        text-align: right;\n",
              "    }\n",
              "</style>\n",
              "<table border=\"1\" class=\"dataframe\">\n",
              "  <thead>\n",
              "    <tr style=\"text-align: right;\">\n",
              "      <th></th>\n",
              "      <th>race</th>\n",
              "      <th>marital-status</th>\n",
              "      <th>class</th>\n",
              "      <th>sex</th>\n",
              "      <th>native-country</th>\n",
              "      <th>occupation</th>\n",
              "      <th>workclass</th>\n",
              "      <th>relationship</th>\n",
              "      <th>education</th>\n",
              "    </tr>\n",
              "  </thead>\n",
              "  <tbody>\n",
              "    <tr>\n",
              "      <th>race</th>\n",
              "      <td>40000</td>\n",
              "      <td>923.809</td>\n",
              "      <td>330.92</td>\n",
              "      <td>454.267</td>\n",
              "      <td>21814.8</td>\n",
              "      <td>850.866</td>\n",
              "      <td>412.537</td>\n",
              "      <td>1253.38</td>\n",
              "      <td>730.671</td>\n",
              "    </tr>\n",
              "    <tr>\n",
              "      <th>marital-status</th>\n",
              "      <td>923.809</td>\n",
              "      <td>40000</td>\n",
              "      <td>6517.74</td>\n",
              "      <td>6944.75</td>\n",
              "      <td>1043.11</td>\n",
              "      <td>3466.89</td>\n",
              "      <td>1413.56</td>\n",
              "      <td>38765.2</td>\n",
              "      <td>1638.14</td>\n",
              "    </tr>\n",
              "    <tr>\n",
              "      <th>class</th>\n",
              "      <td>330.92</td>\n",
              "      <td>6517.74</td>\n",
              "      <td>40000</td>\n",
              "      <td>1517.81</td>\n",
              "      <td>317.23</td>\n",
              "      <td>4031.97</td>\n",
              "      <td>1045.71</td>\n",
              "      <td>6699.08</td>\n",
              "      <td>4429.65</td>\n",
              "    </tr>\n",
              "    <tr>\n",
              "      <th>sex</th>\n",
              "      <td>454.267</td>\n",
              "      <td>6944.75</td>\n",
              "      <td>1517.81</td>\n",
              "      <td>40000</td>\n",
              "      <td>146.812</td>\n",
              "      <td>5863.75</td>\n",
              "      <td>768.914</td>\n",
              "      <td>13714.7</td>\n",
              "      <td>297.715</td>\n",
              "    </tr>\n",
              "    <tr>\n",
              "      <th>native-country</th>\n",
              "      <td>21814.8</td>\n",
              "      <td>1043.11</td>\n",
              "      <td>317.23</td>\n",
              "      <td>146.812</td>\n",
              "      <td>40000</td>\n",
              "      <td>2437.3</td>\n",
              "      <td>546.642</td>\n",
              "      <td>1184.86</td>\n",
              "      <td>8592.46</td>\n",
              "    </tr>\n",
              "    <tr>\n",
              "      <th>occupation</th>\n",
              "      <td>850.866</td>\n",
              "      <td>3466.89</td>\n",
              "      <td>4031.97</td>\n",
              "      <td>5863.75</td>\n",
              "      <td>2437.3</td>\n",
              "      <td>40000</td>\n",
              "      <td>41676.6</td>\n",
              "      <td>5194.64</td>\n",
              "      <td>15997.8</td>\n",
              "    </tr>\n",
              "    <tr>\n",
              "      <th>workclass</th>\n",
              "      <td>412.537</td>\n",
              "      <td>1413.56</td>\n",
              "      <td>1045.71</td>\n",
              "      <td>768.914</td>\n",
              "      <td>546.642</td>\n",
              "      <td>41676.6</td>\n",
              "      <td>40000</td>\n",
              "      <td>1586.37</td>\n",
              "      <td>2572.1</td>\n",
              "    </tr>\n",
              "    <tr>\n",
              "      <th>relationship</th>\n",
              "      <td>1253.38</td>\n",
              "      <td>38765.2</td>\n",
              "      <td>6699.08</td>\n",
              "      <td>13714.7</td>\n",
              "      <td>1184.86</td>\n",
              "      <td>5194.64</td>\n",
              "      <td>1586.37</td>\n",
              "      <td>40000</td>\n",
              "      <td>2449.23</td>\n",
              "    </tr>\n",
              "    <tr>\n",
              "      <th>education</th>\n",
              "      <td>730.671</td>\n",
              "      <td>1638.14</td>\n",
              "      <td>4429.65</td>\n",
              "      <td>297.715</td>\n",
              "      <td>8592.46</td>\n",
              "      <td>15997.8</td>\n",
              "      <td>2572.1</td>\n",
              "      <td>2449.23</td>\n",
              "      <td>40000</td>\n",
              "    </tr>\n",
              "  </tbody>\n",
              "</table>\n",
              "</div>"
            ],
            "text/plain": [
              "                   race marital-status  ... relationship education\n",
              "race              40000        923.809  ...      1253.38   730.671\n",
              "marital-status  923.809          40000  ...      38765.2   1638.14\n",
              "class            330.92        6517.74  ...      6699.08   4429.65\n",
              "sex             454.267        6944.75  ...      13714.7   297.715\n",
              "native-country  21814.8        1043.11  ...      1184.86   8592.46\n",
              "occupation      850.866        3466.89  ...      5194.64   15997.8\n",
              "workclass       412.537        1413.56  ...      1586.37    2572.1\n",
              "relationship    1253.38        38765.2  ...        40000   2449.23\n",
              "education       730.671        1638.14  ...      2449.23     40000\n",
              "\n",
              "[9 rows x 9 columns]"
            ]
          },
          "metadata": {},
          "execution_count": 31
        }
      ]
    },
    {
      "cell_type": "code",
      "metadata": {
        "colab": {
          "base_uri": "https://localhost:8080/",
          "height": 332
        },
        "id": "rQd_IYo5bsKb",
        "outputId": "53e3da9c-b178-49db-f3a2-3b70268275e6"
      },
      "source": [
        "theil_df"
      ],
      "execution_count": null,
      "outputs": [
        {
          "output_type": "execute_result",
          "data": {
            "text/html": [
              "<div>\n",
              "<style scoped>\n",
              "    .dataframe tbody tr th:only-of-type {\n",
              "        vertical-align: middle;\n",
              "    }\n",
              "\n",
              "    .dataframe tbody tr th {\n",
              "        vertical-align: top;\n",
              "    }\n",
              "\n",
              "    .dataframe thead th {\n",
              "        text-align: right;\n",
              "    }\n",
              "</style>\n",
              "<table border=\"1\" class=\"dataframe\">\n",
              "  <thead>\n",
              "    <tr style=\"text-align: right;\">\n",
              "      <th></th>\n",
              "      <th>race</th>\n",
              "      <th>marital-status</th>\n",
              "      <th>class</th>\n",
              "      <th>sex</th>\n",
              "      <th>native-country</th>\n",
              "      <th>occupation</th>\n",
              "      <th>workclass</th>\n",
              "      <th>relationship</th>\n",
              "      <th>education</th>\n",
              "    </tr>\n",
              "  </thead>\n",
              "  <tbody>\n",
              "    <tr>\n",
              "      <th>race</th>\n",
              "      <td>1</td>\n",
              "      <td>0.0101149</td>\n",
              "      <td>0.01052</td>\n",
              "      <td>0.0104337</td>\n",
              "      <td>0.149887</td>\n",
              "      <td>0.00520771</td>\n",
              "      <td>0.00613326</td>\n",
              "      <td>0.0113131</td>\n",
              "      <td>0.00508451</td>\n",
              "    </tr>\n",
              "    <tr>\n",
              "      <th>marital-status</th>\n",
              "      <td>0.0232204</td>\n",
              "      <td>1</td>\n",
              "      <td>0.196548</td>\n",
              "      <td>0.178457</td>\n",
              "      <td>0.0181978</td>\n",
              "      <td>0.0220714</td>\n",
              "      <td>0.0190136</td>\n",
              "      <td>0.485827</td>\n",
              "      <td>0.0117716</td>\n",
              "    </tr>\n",
              "    <tr>\n",
              "      <th>class</th>\n",
              "      <td>0.0104889</td>\n",
              "      <td>0.0853641</td>\n",
              "      <td>1</td>\n",
              "      <td>0.0405918</td>\n",
              "      <td>0.00921316</td>\n",
              "      <td>0.0264217</td>\n",
              "      <td>0.0130897</td>\n",
              "      <td>0.0767564</td>\n",
              "      <td>0.0319275</td>\n",
              "    </tr>\n",
              "    <tr>\n",
              "      <th>sex</th>\n",
              "      <td>0.011962</td>\n",
              "      <td>0.0891223</td>\n",
              "      <td>0.0466752</td>\n",
              "      <td>1</td>\n",
              "      <td>0.00355024</td>\n",
              "      <td>0.0407383</td>\n",
              "      <td>0.0114281</td>\n",
              "      <td>0.182911</td>\n",
              "      <td>0.00233743</td>\n",
              "    </tr>\n",
              "    <tr>\n",
              "      <th>native-country</th>\n",
              "      <td>0.177108</td>\n",
              "      <td>0.00936657</td>\n",
              "      <td>0.0109185</td>\n",
              "      <td>0.00365902</td>\n",
              "      <td>1</td>\n",
              "      <td>0.0119689</td>\n",
              "      <td>0.00818461</td>\n",
              "      <td>0.00849977</td>\n",
              "      <td>0.0265862</td>\n",
              "    </tr>\n",
              "    <tr>\n",
              "      <th>occupation</th>\n",
              "      <td>0.0229299</td>\n",
              "      <td>0.0423325</td>\n",
              "      <td>0.116681</td>\n",
              "      <td>0.156456</td>\n",
              "      <td>0.0446001</td>\n",
              "      <td>1</td>\n",
              "      <td>0.285928</td>\n",
              "      <td>0.0563303</td>\n",
              "      <td>0.110078</td>\n",
              "    </tr>\n",
              "    <tr>\n",
              "      <th>workclass</th>\n",
              "      <td>0.0126543</td>\n",
              "      <td>0.0170883</td>\n",
              "      <td>0.0270869</td>\n",
              "      <td>0.0205662</td>\n",
              "      <td>0.0142913</td>\n",
              "      <td>0.133982</td>\n",
              "      <td>1</td>\n",
              "      <td>0.0163776</td>\n",
              "      <td>0.0160816</td>\n",
              "    </tr>\n",
              "    <tr>\n",
              "      <th>relationship</th>\n",
              "      <td>0.0305145</td>\n",
              "      <td>0.570817</td>\n",
              "      <td>0.207646</td>\n",
              "      <td>0.430329</td>\n",
              "      <td>0.0194026</td>\n",
              "      <td>0.0345075</td>\n",
              "      <td>0.0214107</td>\n",
              "      <td>1</td>\n",
              "      <td>0.0185421</td>\n",
              "    </tr>\n",
              "    <tr>\n",
              "      <th>education</th>\n",
              "      <td>0.01866</td>\n",
              "      <td>0.0188187</td>\n",
              "      <td>0.11752</td>\n",
              "      <td>0.0074823</td>\n",
              "      <td>0.0825746</td>\n",
              "      <td>0.0917504</td>\n",
              "      <td>0.0286053</td>\n",
              "      <td>0.0252287</td>\n",
              "      <td>1</td>\n",
              "    </tr>\n",
              "  </tbody>\n",
              "</table>\n",
              "</div>"
            ],
            "text/plain": [
              "                     race marital-status  ... relationship   education\n",
              "race                    1      0.0101149  ...    0.0113131  0.00508451\n",
              "marital-status  0.0232204              1  ...     0.485827   0.0117716\n",
              "class           0.0104889      0.0853641  ...    0.0767564   0.0319275\n",
              "sex              0.011962      0.0891223  ...     0.182911  0.00233743\n",
              "native-country   0.177108     0.00936657  ...   0.00849977   0.0265862\n",
              "occupation      0.0229299      0.0423325  ...    0.0563303    0.110078\n",
              "workclass       0.0126543      0.0170883  ...    0.0163776   0.0160816\n",
              "relationship    0.0305145       0.570817  ...            1   0.0185421\n",
              "education         0.01866      0.0188187  ...    0.0252287           1\n",
              "\n",
              "[9 rows x 9 columns]"
            ]
          },
          "metadata": {},
          "execution_count": 32
        }
      ]
    },
    {
      "cell_type": "code",
      "metadata": {
        "colab": {
          "base_uri": "https://localhost:8080/",
          "height": 345
        },
        "id": "Y70VAHHfbuf2",
        "outputId": "fc3ff5d7-3cc8-43df-a0a1-ca337060c1f8"
      },
      "source": [
        "sns.heatmap(chi2_df.astype(float), cmap=cmap)"
      ],
      "execution_count": null,
      "outputs": [
        {
          "output_type": "execute_result",
          "data": {
            "text/plain": [
              "<matplotlib.axes._subplots.AxesSubplot at 0x7fd7954c19d0>"
            ]
          },
          "metadata": {},
          "execution_count": 33
        },
        {
          "output_type": "display_data",
          "data": {
            "image/png": "[encoded data removed]",
            "text/plain": [
              "<Figure size 432x288 with 2 Axes>"
            ]
          },
          "metadata": {
            "needs_background": "light"
          }
        }
      ]
    },
    {
      "cell_type": "code",
      "metadata": {
        "colab": {
          "base_uri": "https://localhost:8080/",
          "height": 349
        },
        "id": "-6QDjXbccBJk",
        "outputId": "f0333582-3b58-4885-b4c6-5e5a5aa089ca"
      },
      "source": [
        "sns.heatmap(theil_df.astype(float), cmap=cmap)"
      ],
      "execution_count": null,
      "outputs": [
        {
          "output_type": "execute_result",
          "data": {
            "text/plain": [
              "<matplotlib.axes._subplots.AxesSubplot at 0x7fd7951e35d0>"
            ]
          },
          "metadata": {},
          "execution_count": 34
        },
        {
          "output_type": "display_data",
          "data": {
            "image/png": "[encoded data removed]",
            "text/plain": [
              "<Figure size 432x288 with 2 Axes>"
            ]
          },
          "metadata": {
            "needs_background": "light"
          }
        }
      ]
    },
    {
      "cell_type": "markdown",
      "metadata": {
        "id": "UIyz3N8SgfIK"
      },
      "source": [
        "I used theils U since this gives the asymmetric correlation for categorical variables.\n",
        "\n",
        "The nice thing is that chi2 and theils_u look very similar with the exception that in theils the symmetry is broken.\n",
        "\n",
        "Pairs that are correlated:\n",
        "\n",
        "Chi2\n",
        "\n",
        "Explanatory vs Explanatory - \n",
        " - (workclass, occupation)\n",
        " - (education, occupation)\n",
        " - (relationship, sex)\n",
        " - (race, native country) *\n",
        " - (marital-status, relationship) *\n",
        "\n",
        "Explanatory vs Target - \n",
        " - occupation\n",
        " - education\n",
        " - marital-status\n",
        " - relationship\n",
        "\n",
        " Theils U\n",
        "\n",
        " Explanatory vs Explanatory - asymmetric\n",
        "  - (occupation, workclass) but not necessarily the other way - makes sense because there are more categories in occupation, this means that we might be able to get rid of workclass? although the correlation is not very strong.\n",
        "  - (relationship, sex) but not necessarily the other way - for class, the relationship has a stronger correlation than sex.\n",
        "  - (marital-status, relationship) about the same both ways\n",
        "  - (education, occupation) but not so strong\n",
        "  - (race, native-country) symmetric\n",
        "\n",
        "\n",
        "\n",
        " Explanatory vs Target - only one way (target to explanatory is not of interest)\n",
        " - occupation\n",
        " - education\n",
        " - marital-status\n",
        " - relationship\n",
        "\n",
        "What we can get rid of:\n",
        "\n",
        " - native-country\n",
        "\n",
        "race and native-country are symmetric so we can just select one\n",
        "In the early tests we discovered that native-country is more redundant so we can get rid of it\n",
        "\n",
        " - marital-status\n",
        " \n",
        " relationship and marital status are strongly correlated symetrically and relationship has a stronger correlation with class"
      ]
    },
    {
      "cell_type": "markdown",
      "metadata": {
        "id": "JkSViNnhCziy"
      },
      "source": [
        "# Data Preperation"
      ]
    },
    {
      "cell_type": "markdown",
      "metadata": {
        "id": "QvrEZA7DC39A"
      },
      "source": [
        "As we concluded in the EDA section, there are certain variables that we deffinitely want to get rid of:\n",
        " - native-country\n",
        " - capital-loss\n",
        " - capital-gain\n",
        " - education\n",
        " - fnlwgt\n",
        " - ID"
      ]
    },
    {
      "cell_type": "markdown",
      "metadata": {
        "id": "4qS5Lsy3sEa3"
      },
      "source": [
        "As we saw earlier the following categorical variables have unknown values:\n",
        " - workclass\n",
        " - occupation\n",
        "\n",
        " Since we found that workclass and occupation are mildly correlated we can use each other to fill in the missing values if only one of them are missing.\n",
        "\n",
        "We need to check if any numerical data has missing values and then we can treet them properly."
      ]
    },
    {
      "cell_type": "code",
      "metadata": {
        "colab": {
          "base_uri": "https://localhost:8080/"
        },
        "id": "w-FSDKQDwBti",
        "outputId": "8f4260f8-2260-4245-dae1-931afaa5a3ae"
      },
      "source": [
        "np.count_nonzero(raw_df.isnull())"
      ],
      "execution_count": null,
      "outputs": [
        {
          "output_type": "execute_result",
          "data": {
            "text/plain": [
              "0"
            ]
          },
          "metadata": {},
          "execution_count": 35
        }
      ]
    },
    {
      "cell_type": "markdown",
      "metadata": {
        "id": "RADFnWc_wJ2I"
      },
      "source": [
        "No missing data"
      ]
    },
    {
      "cell_type": "code",
      "metadata": {
        "colab": {
          "base_uri": "https://localhost:8080/",
          "height": 269
        },
        "id": "5rM2RYj5zcgp",
        "outputId": "7cf9d375-ceb4-4bbc-c003-aef308b8017b"
      },
      "source": [
        "raw_df[(raw_df['occupation'] == '?') ^ (raw_df['workclass'] == '?')][['occupation', 'workclass']]"
      ],
      "execution_count": null,
      "outputs": [
        {
          "output_type": "execute_result",
          "data": {
            "text/html": [
              "<div>\n",
              "<style scoped>\n",
              "    .dataframe tbody tr th:only-of-type {\n",
              "        vertical-align: middle;\n",
              "    }\n",
              "\n",
              "    .dataframe tbody tr th {\n",
              "        vertical-align: top;\n",
              "    }\n",
              "\n",
              "    .dataframe thead th {\n",
              "        text-align: right;\n",
              "    }\n",
              "</style>\n",
              "<table border=\"1\" class=\"dataframe\">\n",
              "  <thead>\n",
              "    <tr style=\"text-align: right;\">\n",
              "      <th></th>\n",
              "      <th>occupation</th>\n",
              "      <th>workclass</th>\n",
              "    </tr>\n",
              "  </thead>\n",
              "  <tbody>\n",
              "    <tr>\n",
              "      <th>5361</th>\n",
              "      <td>?</td>\n",
              "      <td>Never-worked</td>\n",
              "    </tr>\n",
              "    <tr>\n",
              "      <th>10845</th>\n",
              "      <td>?</td>\n",
              "      <td>Never-worked</td>\n",
              "    </tr>\n",
              "    <tr>\n",
              "      <th>14772</th>\n",
              "      <td>?</td>\n",
              "      <td>Never-worked</td>\n",
              "    </tr>\n",
              "    <tr>\n",
              "      <th>20337</th>\n",
              "      <td>?</td>\n",
              "      <td>Never-worked</td>\n",
              "    </tr>\n",
              "    <tr>\n",
              "      <th>23232</th>\n",
              "      <td>?</td>\n",
              "      <td>Never-worked</td>\n",
              "    </tr>\n",
              "    <tr>\n",
              "      <th>32304</th>\n",
              "      <td>?</td>\n",
              "      <td>Never-worked</td>\n",
              "    </tr>\n",
              "    <tr>\n",
              "      <th>32314</th>\n",
              "      <td>?</td>\n",
              "      <td>Never-worked</td>\n",
              "    </tr>\n",
              "  </tbody>\n",
              "</table>\n",
              "</div>"
            ],
            "text/plain": [
              "      occupation     workclass\n",
              "5361           ?  Never-worked\n",
              "10845          ?  Never-worked\n",
              "14772          ?  Never-worked\n",
              "20337          ?  Never-worked\n",
              "23232          ?  Never-worked\n",
              "32304          ?  Never-worked\n",
              "32314          ?  Never-worked"
            ]
          },
          "metadata": {},
          "execution_count": 36
        }
      ]
    },
    {
      "cell_type": "markdown",
      "metadata": {
        "id": "GT0vB02u0GDU"
      },
      "source": [
        "It seems pointless to fill in the missing values\n",
        "We either have both workclass and occupation set as '?' or we have occupation set as '?' and workclass 'Never-worked' which means that there is no occupation.\n",
        "Lets check other rows where workclass is 'Never-worked'."
      ]
    },
    {
      "cell_type": "code",
      "metadata": {
        "colab": {
          "base_uri": "https://localhost:8080/",
          "height": 269
        },
        "id": "YHX1pgsU0Z4U",
        "outputId": "c697a5ed-e711-4784-c634-d84dda2e2374"
      },
      "source": [
        "raw_df[raw_df['workclass'] == 'Never-worked'][['occupation']]"
      ],
      "execution_count": null,
      "outputs": [
        {
          "output_type": "execute_result",
          "data": {
            "text/html": [
              "<div>\n",
              "<style scoped>\n",
              "    .dataframe tbody tr th:only-of-type {\n",
              "        vertical-align: middle;\n",
              "    }\n",
              "\n",
              "    .dataframe tbody tr th {\n",
              "        vertical-align: top;\n",
              "    }\n",
              "\n",
              "    .dataframe thead th {\n",
              "        text-align: right;\n",
              "    }\n",
              "</style>\n",
              "<table border=\"1\" class=\"dataframe\">\n",
              "  <thead>\n",
              "    <tr style=\"text-align: right;\">\n",
              "      <th></th>\n",
              "      <th>occupation</th>\n",
              "    </tr>\n",
              "  </thead>\n",
              "  <tbody>\n",
              "    <tr>\n",
              "      <th>5361</th>\n",
              "      <td>?</td>\n",
              "    </tr>\n",
              "    <tr>\n",
              "      <th>10845</th>\n",
              "      <td>?</td>\n",
              "    </tr>\n",
              "    <tr>\n",
              "      <th>14772</th>\n",
              "      <td>?</td>\n",
              "    </tr>\n",
              "    <tr>\n",
              "      <th>20337</th>\n",
              "      <td>?</td>\n",
              "    </tr>\n",
              "    <tr>\n",
              "      <th>23232</th>\n",
              "      <td>?</td>\n",
              "    </tr>\n",
              "    <tr>\n",
              "      <th>32304</th>\n",
              "      <td>?</td>\n",
              "    </tr>\n",
              "    <tr>\n",
              "      <th>32314</th>\n",
              "      <td>?</td>\n",
              "    </tr>\n",
              "  </tbody>\n",
              "</table>\n",
              "</div>"
            ],
            "text/plain": [
              "      occupation\n",
              "5361           ?\n",
              "10845          ?\n",
              "14772          ?\n",
              "20337          ?\n",
              "23232          ?\n",
              "32304          ?\n",
              "32314          ?"
            ]
          },
          "metadata": {},
          "execution_count": 37
        }
      ]
    },
    {
      "cell_type": "markdown",
      "metadata": {
        "id": "inSWUJQR0ooH"
      },
      "source": [
        "Conclusion: we will replace '?' with 'Unemployed'"
      ]
    },
    {
      "cell_type": "code",
      "metadata": {
        "id": "BbXQkzqn7sTs"
      },
      "source": [
        "raw_df.loc[raw_df['workclass'] == 'Never-worked', 'occupation'] = 'Unemployed'"
      ],
      "execution_count": null,
      "outputs": []
    },
    {
      "cell_type": "code",
      "metadata": {
        "colab": {
          "base_uri": "https://localhost:8080/",
          "height": 269
        },
        "id": "daLUc8Tq91K1",
        "outputId": "a66867a2-86ac-4cbf-f697-36785566a9bb"
      },
      "source": [
        "raw_df[raw_df['workclass'] == 'Never-worked'][['occupation']]"
      ],
      "execution_count": null,
      "outputs": [
        {
          "output_type": "execute_result",
          "data": {
            "text/html": [
              "<div>\n",
              "<style scoped>\n",
              "    .dataframe tbody tr th:only-of-type {\n",
              "        vertical-align: middle;\n",
              "    }\n",
              "\n",
              "    .dataframe tbody tr th {\n",
              "        vertical-align: top;\n",
              "    }\n",
              "\n",
              "    .dataframe thead th {\n",
              "        text-align: right;\n",
              "    }\n",
              "</style>\n",
              "<table border=\"1\" class=\"dataframe\">\n",
              "  <thead>\n",
              "    <tr style=\"text-align: right;\">\n",
              "      <th></th>\n",
              "      <th>occupation</th>\n",
              "    </tr>\n",
              "  </thead>\n",
              "  <tbody>\n",
              "    <tr>\n",
              "      <th>5361</th>\n",
              "      <td>Unemployed</td>\n",
              "    </tr>\n",
              "    <tr>\n",
              "      <th>10845</th>\n",
              "      <td>Unemployed</td>\n",
              "    </tr>\n",
              "    <tr>\n",
              "      <th>14772</th>\n",
              "      <td>Unemployed</td>\n",
              "    </tr>\n",
              "    <tr>\n",
              "      <th>20337</th>\n",
              "      <td>Unemployed</td>\n",
              "    </tr>\n",
              "    <tr>\n",
              "      <th>23232</th>\n",
              "      <td>Unemployed</td>\n",
              "    </tr>\n",
              "    <tr>\n",
              "      <th>32304</th>\n",
              "      <td>Unemployed</td>\n",
              "    </tr>\n",
              "    <tr>\n",
              "      <th>32314</th>\n",
              "      <td>Unemployed</td>\n",
              "    </tr>\n",
              "  </tbody>\n",
              "</table>\n",
              "</div>"
            ],
            "text/plain": [
              "       occupation\n",
              "5361   Unemployed\n",
              "10845  Unemployed\n",
              "14772  Unemployed\n",
              "20337  Unemployed\n",
              "23232  Unemployed\n",
              "32304  Unemployed\n",
              "32314  Unemployed"
            ]
          },
          "metadata": {},
          "execution_count": 39
        }
      ]
    },
    {
      "cell_type": "code",
      "metadata": {
        "colab": {
          "base_uri": "https://localhost:8080/"
        },
        "id": "KbM2e3Bw9-WL",
        "outputId": "e112444c-ca2d-4fcb-9389-6915a4d6c0fb"
      },
      "source": [
        "raw_df[raw_df['occupation'] == 'Unemployed']['workclass']"
      ],
      "execution_count": null,
      "outputs": [
        {
          "output_type": "execute_result",
          "data": {
            "text/plain": [
              "5361     Never-worked\n",
              "10845    Never-worked\n",
              "14772    Never-worked\n",
              "20337    Never-worked\n",
              "23232    Never-worked\n",
              "32304    Never-worked\n",
              "32314    Never-worked\n",
              "Name: workclass, dtype: object"
            ]
          },
          "metadata": {},
          "execution_count": 40
        }
      ]
    },
    {
      "cell_type": "markdown",
      "metadata": {
        "id": "LQRT-T7Gr55g"
      },
      "source": [
        "Since we will be dealing with tree based methods then the skewness of the data is of less importants to us, hence we will not be fixing the skew. \n"
      ]
    },
    {
      "cell_type": "markdown",
      "metadata": {
        "id": "8SZuxSQV3rPr"
      },
      "source": [
        "There is one major issue, variables with many categories: occupation\n",
        "\n",
        "native country is highly imballanced, it showed high correlation but that might be\n"
      ]
    },
    {
      "cell_type": "code",
      "metadata": {
        "colab": {
          "base_uri": "https://localhost:8080/"
        },
        "id": "rD91xVi-9WjI",
        "outputId": "e5ec7b40-00e8-4685-fd4d-8dc218bc5ada"
      },
      "source": [
        "occupation_map = average_class_by_occupation.to_dict()\n",
        "occupation_map"
      ],
      "execution_count": null,
      "outputs": [
        {
          "output_type": "execute_result",
          "data": {
            "text/plain": [
              "{'?': 0.10363537710255019,\n",
              " 'Adm-clerical': 0.13448275862068965,\n",
              " 'Armed-Forces': 0.1111111111111111,\n",
              " 'Craft-repair': 0.22664064405952672,\n",
              " 'Exec-managerial': 0.4840137727496311,\n",
              " 'Farming-fishing': 0.11569416498993963,\n",
              " 'Handlers-cleaners': 0.06277372262773723,\n",
              " 'Machine-op-inspct': 0.12487512487512488,\n",
              " 'Other-service': 0.04157814871016692,\n",
              " 'Priv-house-serv': 0.006711409395973154,\n",
              " 'Prof-specialty': 0.44903381642512075,\n",
              " 'Protective-serv': 0.325115562403698,\n",
              " 'Sales': 0.2693150684931507,\n",
              " 'Tech-support': 0.30495689655172414,\n",
              " 'Transport-moving': 0.20037570444583594}"
            ]
          },
          "metadata": {},
          "execution_count": 41
        }
      ]
    },
    {
      "cell_type": "code",
      "metadata": {
        "colab": {
          "base_uri": "https://localhost:8080/",
          "height": 632
        },
        "id": "xyTDqucj8vYz",
        "outputId": "a2c7c011-db4b-471f-c089-184cd04e0c10"
      },
      "source": [
        "occupation_map = average_class_by_occupation.to_dict()\n",
        "raw_df['occupation_class_average'] = raw_df['occupation'].map(occupation_map)\n",
        "raw_df"
      ],
      "execution_count": null,
      "outputs": [
        {
          "output_type": "execute_result",
          "data": {
            "text/html": [
              "<div>\n",
              "<style scoped>\n",
              "    .dataframe tbody tr th:only-of-type {\n",
              "        vertical-align: middle;\n",
              "    }\n",
              "\n",
              "    .dataframe tbody tr th {\n",
              "        vertical-align: top;\n",
              "    }\n",
              "\n",
              "    .dataframe thead th {\n",
              "        text-align: right;\n",
              "    }\n",
              "</style>\n",
              "<table border=\"1\" class=\"dataframe\">\n",
              "  <thead>\n",
              "    <tr style=\"text-align: right;\">\n",
              "      <th></th>\n",
              "      <th>ID</th>\n",
              "      <th>age</th>\n",
              "      <th>workclass</th>\n",
              "      <th>fnlwgt</th>\n",
              "      <th>education</th>\n",
              "      <th>education-num</th>\n",
              "      <th>marital-status</th>\n",
              "      <th>occupation</th>\n",
              "      <th>relationship</th>\n",
              "      <th>race</th>\n",
              "      <th>sex</th>\n",
              "      <th>capital-gain</th>\n",
              "      <th>capital-loss</th>\n",
              "      <th>hours-per-week</th>\n",
              "      <th>native-country</th>\n",
              "      <th>class</th>\n",
              "      <th>class_num</th>\n",
              "      <th>occupation_class_average</th>\n",
              "    </tr>\n",
              "  </thead>\n",
              "  <tbody>\n",
              "    <tr>\n",
              "      <th>0</th>\n",
              "      <td>1</td>\n",
              "      <td>39</td>\n",
              "      <td>State-gov</td>\n",
              "      <td>77516</td>\n",
              "      <td>Bachelors</td>\n",
              "      <td>13</td>\n",
              "      <td>Never-married</td>\n",
              "      <td>Adm-clerical</td>\n",
              "      <td>Not-in-family</td>\n",
              "      <td>White</td>\n",
              "      <td>Male</td>\n",
              "      <td>2174</td>\n",
              "      <td>0</td>\n",
              "      <td>40</td>\n",
              "      <td>United-States</td>\n",
              "      <td>&lt;=50K</td>\n",
              "      <td>0</td>\n",
              "      <td>0.134483</td>\n",
              "    </tr>\n",
              "    <tr>\n",
              "      <th>1</th>\n",
              "      <td>2</td>\n",
              "      <td>50</td>\n",
              "      <td>Self-emp-not-inc</td>\n",
              "      <td>83311</td>\n",
              "      <td>Bachelors</td>\n",
              "      <td>13</td>\n",
              "      <td>Married-civ-spouse</td>\n",
              "      <td>Exec-managerial</td>\n",
              "      <td>Husband</td>\n",
              "      <td>White</td>\n",
              "      <td>Male</td>\n",
              "      <td>0</td>\n",
              "      <td>0</td>\n",
              "      <td>13</td>\n",
              "      <td>United-States</td>\n",
              "      <td>&lt;=50K</td>\n",
              "      <td>0</td>\n",
              "      <td>0.484014</td>\n",
              "    </tr>\n",
              "    <tr>\n",
              "      <th>2</th>\n",
              "      <td>3</td>\n",
              "      <td>38</td>\n",
              "      <td>Private</td>\n",
              "      <td>215646</td>\n",
              "      <td>HS-grad</td>\n",
              "      <td>9</td>\n",
              "      <td>Divorced</td>\n",
              "      <td>Handlers-cleaners</td>\n",
              "      <td>Not-in-family</td>\n",
              "      <td>White</td>\n",
              "      <td>Male</td>\n",
              "      <td>0</td>\n",
              "      <td>0</td>\n",
              "      <td>40</td>\n",
              "      <td>United-States</td>\n",
              "      <td>&lt;=50K</td>\n",
              "      <td>0</td>\n",
              "      <td>0.062774</td>\n",
              "    </tr>\n",
              "    <tr>\n",
              "      <th>3</th>\n",
              "      <td>4</td>\n",
              "      <td>53</td>\n",
              "      <td>Private</td>\n",
              "      <td>234721</td>\n",
              "      <td>11th</td>\n",
              "      <td>7</td>\n",
              "      <td>Married-civ-spouse</td>\n",
              "      <td>Handlers-cleaners</td>\n",
              "      <td>Husband</td>\n",
              "      <td>Black</td>\n",
              "      <td>Male</td>\n",
              "      <td>0</td>\n",
              "      <td>0</td>\n",
              "      <td>40</td>\n",
              "      <td>United-States</td>\n",
              "      <td>&lt;=50K</td>\n",
              "      <td>0</td>\n",
              "      <td>0.062774</td>\n",
              "    </tr>\n",
              "    <tr>\n",
              "      <th>4</th>\n",
              "      <td>5</td>\n",
              "      <td>28</td>\n",
              "      <td>Private</td>\n",
              "      <td>338409</td>\n",
              "      <td>Bachelors</td>\n",
              "      <td>13</td>\n",
              "      <td>Married-civ-spouse</td>\n",
              "      <td>Prof-specialty</td>\n",
              "      <td>Wife</td>\n",
              "      <td>Black</td>\n",
              "      <td>Female</td>\n",
              "      <td>0</td>\n",
              "      <td>0</td>\n",
              "      <td>40</td>\n",
              "      <td>Cuba</td>\n",
              "      <td>&lt;=50K</td>\n",
              "      <td>0</td>\n",
              "      <td>0.449034</td>\n",
              "    </tr>\n",
              "    <tr>\n",
              "      <th>...</th>\n",
              "      <td>...</td>\n",
              "      <td>...</td>\n",
              "      <td>...</td>\n",
              "      <td>...</td>\n",
              "      <td>...</td>\n",
              "      <td>...</td>\n",
              "      <td>...</td>\n",
              "      <td>...</td>\n",
              "      <td>...</td>\n",
              "      <td>...</td>\n",
              "      <td>...</td>\n",
              "      <td>...</td>\n",
              "      <td>...</td>\n",
              "      <td>...</td>\n",
              "      <td>...</td>\n",
              "      <td>...</td>\n",
              "      <td>...</td>\n",
              "      <td>...</td>\n",
              "    </tr>\n",
              "    <tr>\n",
              "      <th>32556</th>\n",
              "      <td>32557</td>\n",
              "      <td>27</td>\n",
              "      <td>Private</td>\n",
              "      <td>257302</td>\n",
              "      <td>Assoc-acdm</td>\n",
              "      <td>12</td>\n",
              "      <td>Married-civ-spouse</td>\n",
              "      <td>Tech-support</td>\n",
              "      <td>Wife</td>\n",
              "      <td>White</td>\n",
              "      <td>Female</td>\n",
              "      <td>0</td>\n",
              "      <td>0</td>\n",
              "      <td>38</td>\n",
              "      <td>United-States</td>\n",
              "      <td>&lt;=50K</td>\n",
              "      <td>0</td>\n",
              "      <td>0.304957</td>\n",
              "    </tr>\n",
              "    <tr>\n",
              "      <th>32557</th>\n",
              "      <td>32558</td>\n",
              "      <td>40</td>\n",
              "      <td>Private</td>\n",
              "      <td>154374</td>\n",
              "      <td>HS-grad</td>\n",
              "      <td>9</td>\n",
              "      <td>Married-civ-spouse</td>\n",
              "      <td>Machine-op-inspct</td>\n",
              "      <td>Husband</td>\n",
              "      <td>White</td>\n",
              "      <td>Male</td>\n",
              "      <td>0</td>\n",
              "      <td>0</td>\n",
              "      <td>40</td>\n",
              "      <td>United-States</td>\n",
              "      <td>&gt;50K</td>\n",
              "      <td>1</td>\n",
              "      <td>0.124875</td>\n",
              "    </tr>\n",
              "    <tr>\n",
              "      <th>32558</th>\n",
              "      <td>32559</td>\n",
              "      <td>58</td>\n",
              "      <td>Private</td>\n",
              "      <td>151910</td>\n",
              "      <td>HS-grad</td>\n",
              "      <td>9</td>\n",
              "      <td>Widowed</td>\n",
              "      <td>Adm-clerical</td>\n",
              "      <td>Unmarried</td>\n",
              "      <td>White</td>\n",
              "      <td>Female</td>\n",
              "      <td>0</td>\n",
              "      <td>0</td>\n",
              "      <td>40</td>\n",
              "      <td>United-States</td>\n",
              "      <td>&lt;=50K</td>\n",
              "      <td>0</td>\n",
              "      <td>0.134483</td>\n",
              "    </tr>\n",
              "    <tr>\n",
              "      <th>32559</th>\n",
              "      <td>32560</td>\n",
              "      <td>22</td>\n",
              "      <td>Private</td>\n",
              "      <td>201490</td>\n",
              "      <td>HS-grad</td>\n",
              "      <td>9</td>\n",
              "      <td>Never-married</td>\n",
              "      <td>Adm-clerical</td>\n",
              "      <td>Own-child</td>\n",
              "      <td>White</td>\n",
              "      <td>Male</td>\n",
              "      <td>0</td>\n",
              "      <td>0</td>\n",
              "      <td>20</td>\n",
              "      <td>United-States</td>\n",
              "      <td>&lt;=50K</td>\n",
              "      <td>0</td>\n",
              "      <td>0.134483</td>\n",
              "    </tr>\n",
              "    <tr>\n",
              "      <th>32560</th>\n",
              "      <td>32561</td>\n",
              "      <td>52</td>\n",
              "      <td>Self-emp-inc</td>\n",
              "      <td>287927</td>\n",
              "      <td>HS-grad</td>\n",
              "      <td>9</td>\n",
              "      <td>Married-civ-spouse</td>\n",
              "      <td>Exec-managerial</td>\n",
              "      <td>Wife</td>\n",
              "      <td>White</td>\n",
              "      <td>Female</td>\n",
              "      <td>15024</td>\n",
              "      <td>0</td>\n",
              "      <td>40</td>\n",
              "      <td>United-States</td>\n",
              "      <td>&gt;50K</td>\n",
              "      <td>1</td>\n",
              "      <td>0.484014</td>\n",
              "    </tr>\n",
              "  </tbody>\n",
              "</table>\n",
              "<p>32561 rows × 18 columns</p>\n",
              "</div>"
            ],
            "text/plain": [
              "          ID  age         workclass  ...  class class_num  occupation_class_average\n",
              "0          1   39         State-gov  ...  <=50K         0                  0.134483\n",
              "1          2   50  Self-emp-not-inc  ...  <=50K         0                  0.484014\n",
              "2          3   38           Private  ...  <=50K         0                  0.062774\n",
              "3          4   53           Private  ...  <=50K         0                  0.062774\n",
              "4          5   28           Private  ...  <=50K         0                  0.449034\n",
              "...      ...  ...               ...  ...    ...       ...                       ...\n",
              "32556  32557   27           Private  ...  <=50K         0                  0.304957\n",
              "32557  32558   40           Private  ...   >50K         1                  0.124875\n",
              "32558  32559   58           Private  ...  <=50K         0                  0.134483\n",
              "32559  32560   22           Private  ...  <=50K         0                  0.134483\n",
              "32560  32561   52      Self-emp-inc  ...   >50K         1                  0.484014\n",
              "\n",
              "[32561 rows x 18 columns]"
            ]
          },
          "metadata": {},
          "execution_count": 42
        }
      ]
    },
    {
      "cell_type": "code",
      "metadata": {
        "colab": {
          "base_uri": "https://localhost:8080/",
          "height": 206
        },
        "id": "SXYp3QbbDDK0",
        "outputId": "64312aea-bcdb-4cce-a054-295d51b3df67"
      },
      "source": [
        "input_df = raw_df.drop(columns=['native-country', 'capital-loss', 'education', 'fnlwgt', 'ID', 'marital-status', 'workclass', 'class', 'occupation', 'race'])\n",
        "input_df.head()"
      ],
      "execution_count": null,
      "outputs": [
        {
          "output_type": "execute_result",
          "data": {
            "text/html": [
              "<div>\n",
              "<style scoped>\n",
              "    .dataframe tbody tr th:only-of-type {\n",
              "        vertical-align: middle;\n",
              "    }\n",
              "\n",
              "    .dataframe tbody tr th {\n",
              "        vertical-align: top;\n",
              "    }\n",
              "\n",
              "    .dataframe thead th {\n",
              "        text-align: right;\n",
              "    }\n",
              "</style>\n",
              "<table border=\"1\" class=\"dataframe\">\n",
              "  <thead>\n",
              "    <tr style=\"text-align: right;\">\n",
              "      <th></th>\n",
              "      <th>age</th>\n",
              "      <th>education-num</th>\n",
              "      <th>relationship</th>\n",
              "      <th>sex</th>\n",
              "      <th>capital-gain</th>\n",
              "      <th>hours-per-week</th>\n",
              "      <th>class_num</th>\n",
              "      <th>occupation_class_average</th>\n",
              "    </tr>\n",
              "  </thead>\n",
              "  <tbody>\n",
              "    <tr>\n",
              "      <th>0</th>\n",
              "      <td>39</td>\n",
              "      <td>13</td>\n",
              "      <td>Not-in-family</td>\n",
              "      <td>Male</td>\n",
              "      <td>2174</td>\n",
              "      <td>40</td>\n",
              "      <td>0</td>\n",
              "      <td>0.134483</td>\n",
              "    </tr>\n",
              "    <tr>\n",
              "      <th>1</th>\n",
              "      <td>50</td>\n",
              "      <td>13</td>\n",
              "      <td>Husband</td>\n",
              "      <td>Male</td>\n",
              "      <td>0</td>\n",
              "      <td>13</td>\n",
              "      <td>0</td>\n",
              "      <td>0.484014</td>\n",
              "    </tr>\n",
              "    <tr>\n",
              "      <th>2</th>\n",
              "      <td>38</td>\n",
              "      <td>9</td>\n",
              "      <td>Not-in-family</td>\n",
              "      <td>Male</td>\n",
              "      <td>0</td>\n",
              "      <td>40</td>\n",
              "      <td>0</td>\n",
              "      <td>0.062774</td>\n",
              "    </tr>\n",
              "    <tr>\n",
              "      <th>3</th>\n",
              "      <td>53</td>\n",
              "      <td>7</td>\n",
              "      <td>Husband</td>\n",
              "      <td>Male</td>\n",
              "      <td>0</td>\n",
              "      <td>40</td>\n",
              "      <td>0</td>\n",
              "      <td>0.062774</td>\n",
              "    </tr>\n",
              "    <tr>\n",
              "      <th>4</th>\n",
              "      <td>28</td>\n",
              "      <td>13</td>\n",
              "      <td>Wife</td>\n",
              "      <td>Female</td>\n",
              "      <td>0</td>\n",
              "      <td>40</td>\n",
              "      <td>0</td>\n",
              "      <td>0.449034</td>\n",
              "    </tr>\n",
              "  </tbody>\n",
              "</table>\n",
              "</div>"
            ],
            "text/plain": [
              "   age  education-num  ... class_num occupation_class_average\n",
              "0   39             13  ...         0                 0.134483\n",
              "1   50             13  ...         0                 0.484014\n",
              "2   38              9  ...         0                 0.062774\n",
              "3   53              7  ...         0                 0.062774\n",
              "4   28             13  ...         0                 0.449034\n",
              "\n",
              "[5 rows x 8 columns]"
            ]
          },
          "metadata": {},
          "execution_count": 43
        }
      ]
    },
    {
      "cell_type": "code",
      "metadata": {
        "colab": {
          "base_uri": "https://localhost:8080/",
          "height": 478
        },
        "id": "IbITtFeLEun6",
        "outputId": "eb519fac-83eb-4ab8-d970-368c711352bb"
      },
      "source": [
        "input_df = pd.get_dummies(input_df)\n",
        "input_df"
      ],
      "execution_count": null,
      "outputs": [
        {
          "output_type": "execute_result",
          "data": {
            "text/html": [
              "<div>\n",
              "<style scoped>\n",
              "    .dataframe tbody tr th:only-of-type {\n",
              "        vertical-align: middle;\n",
              "    }\n",
              "\n",
              "    .dataframe tbody tr th {\n",
              "        vertical-align: top;\n",
              "    }\n",
              "\n",
              "    .dataframe thead th {\n",
              "        text-align: right;\n",
              "    }\n",
              "</style>\n",
              "<table border=\"1\" class=\"dataframe\">\n",
              "  <thead>\n",
              "    <tr style=\"text-align: right;\">\n",
              "      <th></th>\n",
              "      <th>age</th>\n",
              "      <th>education-num</th>\n",
              "      <th>capital-gain</th>\n",
              "      <th>hours-per-week</th>\n",
              "      <th>class_num</th>\n",
              "      <th>occupation_class_average</th>\n",
              "      <th>relationship_Husband</th>\n",
              "      <th>relationship_Not-in-family</th>\n",
              "      <th>relationship_Other-relative</th>\n",
              "      <th>relationship_Own-child</th>\n",
              "      <th>relationship_Unmarried</th>\n",
              "      <th>relationship_Wife</th>\n",
              "      <th>sex_Female</th>\n",
              "      <th>sex_Male</th>\n",
              "    </tr>\n",
              "  </thead>\n",
              "  <tbody>\n",
              "    <tr>\n",
              "      <th>0</th>\n",
              "      <td>39</td>\n",
              "      <td>13</td>\n",
              "      <td>2174</td>\n",
              "      <td>40</td>\n",
              "      <td>0</td>\n",
              "      <td>0.134483</td>\n",
              "      <td>0</td>\n",
              "      <td>1</td>\n",
              "      <td>0</td>\n",
              "      <td>0</td>\n",
              "      <td>0</td>\n",
              "      <td>0</td>\n",
              "      <td>0</td>\n",
              "      <td>1</td>\n",
              "    </tr>\n",
              "    <tr>\n",
              "      <th>1</th>\n",
              "      <td>50</td>\n",
              "      <td>13</td>\n",
              "      <td>0</td>\n",
              "      <td>13</td>\n",
              "      <td>0</td>\n",
              "      <td>0.484014</td>\n",
              "      <td>1</td>\n",
              "      <td>0</td>\n",
              "      <td>0</td>\n",
              "      <td>0</td>\n",
              "      <td>0</td>\n",
              "      <td>0</td>\n",
              "      <td>0</td>\n",
              "      <td>1</td>\n",
              "    </tr>\n",
              "    <tr>\n",
              "      <th>2</th>\n",
              "      <td>38</td>\n",
              "      <td>9</td>\n",
              "      <td>0</td>\n",
              "      <td>40</td>\n",
              "      <td>0</td>\n",
              "      <td>0.062774</td>\n",
              "      <td>0</td>\n",
              "      <td>1</td>\n",
              "      <td>0</td>\n",
              "      <td>0</td>\n",
              "      <td>0</td>\n",
              "      <td>0</td>\n",
              "      <td>0</td>\n",
              "      <td>1</td>\n",
              "    </tr>\n",
              "    <tr>\n",
              "      <th>3</th>\n",
              "      <td>53</td>\n",
              "      <td>7</td>\n",
              "      <td>0</td>\n",
              "      <td>40</td>\n",
              "      <td>0</td>\n",
              "      <td>0.062774</td>\n",
              "      <td>1</td>\n",
              "      <td>0</td>\n",
              "      <td>0</td>\n",
              "      <td>0</td>\n",
              "      <td>0</td>\n",
              "      <td>0</td>\n",
              "      <td>0</td>\n",
              "      <td>1</td>\n",
              "    </tr>\n",
              "    <tr>\n",
              "      <th>4</th>\n",
              "      <td>28</td>\n",
              "      <td>13</td>\n",
              "      <td>0</td>\n",
              "      <td>40</td>\n",
              "      <td>0</td>\n",
              "      <td>0.449034</td>\n",
              "      <td>0</td>\n",
              "      <td>0</td>\n",
              "      <td>0</td>\n",
              "      <td>0</td>\n",
              "      <td>0</td>\n",
              "      <td>1</td>\n",
              "      <td>1</td>\n",
              "      <td>0</td>\n",
              "    </tr>\n",
              "    <tr>\n",
              "      <th>...</th>\n",
              "      <td>...</td>\n",
              "      <td>...</td>\n",
              "      <td>...</td>\n",
              "      <td>...</td>\n",
              "      <td>...</td>\n",
              "      <td>...</td>\n",
              "      <td>...</td>\n",
              "      <td>...</td>\n",
              "      <td>...</td>\n",
              "      <td>...</td>\n",
              "      <td>...</td>\n",
              "      <td>...</td>\n",
              "      <td>...</td>\n",
              "      <td>...</td>\n",
              "    </tr>\n",
              "    <tr>\n",
              "      <th>32556</th>\n",
              "      <td>27</td>\n",
              "      <td>12</td>\n",
              "      <td>0</td>\n",
              "      <td>38</td>\n",
              "      <td>0</td>\n",
              "      <td>0.304957</td>\n",
              "      <td>0</td>\n",
              "      <td>0</td>\n",
              "      <td>0</td>\n",
              "      <td>0</td>\n",
              "      <td>0</td>\n",
              "      <td>1</td>\n",
              "      <td>1</td>\n",
              "      <td>0</td>\n",
              "    </tr>\n",
              "    <tr>\n",
              "      <th>32557</th>\n",
              "      <td>40</td>\n",
              "      <td>9</td>\n",
              "      <td>0</td>\n",
              "      <td>40</td>\n",
              "      <td>1</td>\n",
              "      <td>0.124875</td>\n",
              "      <td>1</td>\n",
              "      <td>0</td>\n",
              "      <td>0</td>\n",
              "      <td>0</td>\n",
              "      <td>0</td>\n",
              "      <td>0</td>\n",
              "      <td>0</td>\n",
              "      <td>1</td>\n",
              "    </tr>\n",
              "    <tr>\n",
              "      <th>32558</th>\n",
              "      <td>58</td>\n",
              "      <td>9</td>\n",
              "      <td>0</td>\n",
              "      <td>40</td>\n",
              "      <td>0</td>\n",
              "      <td>0.134483</td>\n",
              "      <td>0</td>\n",
              "      <td>0</td>\n",
              "      <td>0</td>\n",
              "      <td>0</td>\n",
              "      <td>1</td>\n",
              "      <td>0</td>\n",
              "      <td>1</td>\n",
              "      <td>0</td>\n",
              "    </tr>\n",
              "    <tr>\n",
              "      <th>32559</th>\n",
              "      <td>22</td>\n",
              "      <td>9</td>\n",
              "      <td>0</td>\n",
              "      <td>20</td>\n",
              "      <td>0</td>\n",
              "      <td>0.134483</td>\n",
              "      <td>0</td>\n",
              "      <td>0</td>\n",
              "      <td>0</td>\n",
              "      <td>1</td>\n",
              "      <td>0</td>\n",
              "      <td>0</td>\n",
              "      <td>0</td>\n",
              "      <td>1</td>\n",
              "    </tr>\n",
              "    <tr>\n",
              "      <th>32560</th>\n",
              "      <td>52</td>\n",
              "      <td>9</td>\n",
              "      <td>15024</td>\n",
              "      <td>40</td>\n",
              "      <td>1</td>\n",
              "      <td>0.484014</td>\n",
              "      <td>0</td>\n",
              "      <td>0</td>\n",
              "      <td>0</td>\n",
              "      <td>0</td>\n",
              "      <td>0</td>\n",
              "      <td>1</td>\n",
              "      <td>1</td>\n",
              "      <td>0</td>\n",
              "    </tr>\n",
              "  </tbody>\n",
              "</table>\n",
              "<p>32561 rows × 14 columns</p>\n",
              "</div>"
            ],
            "text/plain": [
              "       age  education-num  ...  sex_Female  sex_Male\n",
              "0       39             13  ...           0         1\n",
              "1       50             13  ...           0         1\n",
              "2       38              9  ...           0         1\n",
              "3       53              7  ...           0         1\n",
              "4       28             13  ...           1         0\n",
              "...    ...            ...  ...         ...       ...\n",
              "32556   27             12  ...           1         0\n",
              "32557   40              9  ...           0         1\n",
              "32558   58              9  ...           1         0\n",
              "32559   22              9  ...           0         1\n",
              "32560   52              9  ...           1         0\n",
              "\n",
              "[32561 rows x 14 columns]"
            ]
          },
          "metadata": {},
          "execution_count": 44
        }
      ]
    },
    {
      "cell_type": "markdown",
      "metadata": {
        "id": "Kup3FD6hB-1x"
      },
      "source": [
        "# Modeling"
      ]
    },
    {
      "cell_type": "code",
      "metadata": {
        "id": "4Xd954bHEkIQ"
      },
      "source": [
        "y = input_df['class_num']\n",
        "X = input_df.drop(columns='class_num') "
      ],
      "execution_count": null,
      "outputs": []
    },
    {
      "cell_type": "code",
      "metadata": {
        "colab": {
          "base_uri": "https://localhost:8080/"
        },
        "id": "iQgBQvOoKb-n",
        "outputId": "de327ef7-0f74-4e0b-ff78-d3f4c1dce724"
      },
      "source": [
        "y"
      ],
      "execution_count": null,
      "outputs": [
        {
          "output_type": "execute_result",
          "data": {
            "text/plain": [
              "0        0\n",
              "1        0\n",
              "2        0\n",
              "3        0\n",
              "4        0\n",
              "        ..\n",
              "32556    0\n",
              "32557    1\n",
              "32558    0\n",
              "32559    0\n",
              "32560    1\n",
              "Name: class_num, Length: 32561, dtype: int64"
            ]
          },
          "metadata": {},
          "execution_count": 46
        }
      ]
    },
    {
      "cell_type": "code",
      "metadata": {
        "colab": {
          "base_uri": "https://localhost:8080/",
          "height": 478
        },
        "id": "s8v0v0rTKfBs",
        "outputId": "2aa92b75-218e-40eb-e469-dc52964e07eb"
      },
      "source": [
        "X"
      ],
      "execution_count": null,
      "outputs": [
        {
          "output_type": "execute_result",
          "data": {
            "text/html": [
              "<div>\n",
              "<style scoped>\n",
              "    .dataframe tbody tr th:only-of-type {\n",
              "        vertical-align: middle;\n",
              "    }\n",
              "\n",
              "    .dataframe tbody tr th {\n",
              "        vertical-align: top;\n",
              "    }\n",
              "\n",
              "    .dataframe thead th {\n",
              "        text-align: right;\n",
              "    }\n",
              "</style>\n",
              "<table border=\"1\" class=\"dataframe\">\n",
              "  <thead>\n",
              "    <tr style=\"text-align: right;\">\n",
              "      <th></th>\n",
              "      <th>age</th>\n",
              "      <th>education-num</th>\n",
              "      <th>capital-gain</th>\n",
              "      <th>hours-per-week</th>\n",
              "      <th>occupation_class_average</th>\n",
              "      <th>relationship_Husband</th>\n",
              "      <th>relationship_Not-in-family</th>\n",
              "      <th>relationship_Other-relative</th>\n",
              "      <th>relationship_Own-child</th>\n",
              "      <th>relationship_Unmarried</th>\n",
              "      <th>relationship_Wife</th>\n",
              "      <th>sex_Female</th>\n",
              "      <th>sex_Male</th>\n",
              "    </tr>\n",
              "  </thead>\n",
              "  <tbody>\n",
              "    <tr>\n",
              "      <th>0</th>\n",
              "      <td>39</td>\n",
              "      <td>13</td>\n",
              "      <td>2174</td>\n",
              "      <td>40</td>\n",
              "      <td>0.134483</td>\n",
              "      <td>0</td>\n",
              "      <td>1</td>\n",
              "      <td>0</td>\n",
              "      <td>0</td>\n",
              "      <td>0</td>\n",
              "      <td>0</td>\n",
              "      <td>0</td>\n",
              "      <td>1</td>\n",
              "    </tr>\n",
              "    <tr>\n",
              "      <th>1</th>\n",
              "      <td>50</td>\n",
              "      <td>13</td>\n",
              "      <td>0</td>\n",
              "      <td>13</td>\n",
              "      <td>0.484014</td>\n",
              "      <td>1</td>\n",
              "      <td>0</td>\n",
              "      <td>0</td>\n",
              "      <td>0</td>\n",
              "      <td>0</td>\n",
              "      <td>0</td>\n",
              "      <td>0</td>\n",
              "      <td>1</td>\n",
              "    </tr>\n",
              "    <tr>\n",
              "      <th>2</th>\n",
              "      <td>38</td>\n",
              "      <td>9</td>\n",
              "      <td>0</td>\n",
              "      <td>40</td>\n",
              "      <td>0.062774</td>\n",
              "      <td>0</td>\n",
              "      <td>1</td>\n",
              "      <td>0</td>\n",
              "      <td>0</td>\n",
              "      <td>0</td>\n",
              "      <td>0</td>\n",
              "      <td>0</td>\n",
              "      <td>1</td>\n",
              "    </tr>\n",
              "    <tr>\n",
              "      <th>3</th>\n",
              "      <td>53</td>\n",
              "      <td>7</td>\n",
              "      <td>0</td>\n",
              "      <td>40</td>\n",
              "      <td>0.062774</td>\n",
              "      <td>1</td>\n",
              "      <td>0</td>\n",
              "      <td>0</td>\n",
              "      <td>0</td>\n",
              "      <td>0</td>\n",
              "      <td>0</td>\n",
              "      <td>0</td>\n",
              "      <td>1</td>\n",
              "    </tr>\n",
              "    <tr>\n",
              "      <th>4</th>\n",
              "      <td>28</td>\n",
              "      <td>13</td>\n",
              "      <td>0</td>\n",
              "      <td>40</td>\n",
              "      <td>0.449034</td>\n",
              "      <td>0</td>\n",
              "      <td>0</td>\n",
              "      <td>0</td>\n",
              "      <td>0</td>\n",
              "      <td>0</td>\n",
              "      <td>1</td>\n",
              "      <td>1</td>\n",
              "      <td>0</td>\n",
              "    </tr>\n",
              "    <tr>\n",
              "      <th>...</th>\n",
              "      <td>...</td>\n",
              "      <td>...</td>\n",
              "      <td>...</td>\n",
              "      <td>...</td>\n",
              "      <td>...</td>\n",
              "      <td>...</td>\n",
              "      <td>...</td>\n",
              "      <td>...</td>\n",
              "      <td>...</td>\n",
              "      <td>...</td>\n",
              "      <td>...</td>\n",
              "      <td>...</td>\n",
              "      <td>...</td>\n",
              "    </tr>\n",
              "    <tr>\n",
              "      <th>32556</th>\n",
              "      <td>27</td>\n",
              "      <td>12</td>\n",
              "      <td>0</td>\n",
              "      <td>38</td>\n",
              "      <td>0.304957</td>\n",
              "      <td>0</td>\n",
              "      <td>0</td>\n",
              "      <td>0</td>\n",
              "      <td>0</td>\n",
              "      <td>0</td>\n",
              "      <td>1</td>\n",
              "      <td>1</td>\n",
              "      <td>0</td>\n",
              "    </tr>\n",
              "    <tr>\n",
              "      <th>32557</th>\n",
              "      <td>40</td>\n",
              "      <td>9</td>\n",
              "      <td>0</td>\n",
              "      <td>40</td>\n",
              "      <td>0.124875</td>\n",
              "      <td>1</td>\n",
              "      <td>0</td>\n",
              "      <td>0</td>\n",
              "      <td>0</td>\n",
              "      <td>0</td>\n",
              "      <td>0</td>\n",
              "      <td>0</td>\n",
              "      <td>1</td>\n",
              "    </tr>\n",
              "    <tr>\n",
              "      <th>32558</th>\n",
              "      <td>58</td>\n",
              "      <td>9</td>\n",
              "      <td>0</td>\n",
              "      <td>40</td>\n",
              "      <td>0.134483</td>\n",
              "      <td>0</td>\n",
              "      <td>0</td>\n",
              "      <td>0</td>\n",
              "      <td>0</td>\n",
              "      <td>1</td>\n",
              "      <td>0</td>\n",
              "      <td>1</td>\n",
              "      <td>0</td>\n",
              "    </tr>\n",
              "    <tr>\n",
              "      <th>32559</th>\n",
              "      <td>22</td>\n",
              "      <td>9</td>\n",
              "      <td>0</td>\n",
              "      <td>20</td>\n",
              "      <td>0.134483</td>\n",
              "      <td>0</td>\n",
              "      <td>0</td>\n",
              "      <td>0</td>\n",
              "      <td>1</td>\n",
              "      <td>0</td>\n",
              "      <td>0</td>\n",
              "      <td>0</td>\n",
              "      <td>1</td>\n",
              "    </tr>\n",
              "    <tr>\n",
              "      <th>32560</th>\n",
              "      <td>52</td>\n",
              "      <td>9</td>\n",
              "      <td>15024</td>\n",
              "      <td>40</td>\n",
              "      <td>0.484014</td>\n",
              "      <td>0</td>\n",
              "      <td>0</td>\n",
              "      <td>0</td>\n",
              "      <td>0</td>\n",
              "      <td>0</td>\n",
              "      <td>1</td>\n",
              "      <td>1</td>\n",
              "      <td>0</td>\n",
              "    </tr>\n",
              "  </tbody>\n",
              "</table>\n",
              "<p>32561 rows × 13 columns</p>\n",
              "</div>"
            ],
            "text/plain": [
              "       age  education-num  ...  sex_Female  sex_Male\n",
              "0       39             13  ...           0         1\n",
              "1       50             13  ...           0         1\n",
              "2       38              9  ...           0         1\n",
              "3       53              7  ...           0         1\n",
              "4       28             13  ...           1         0\n",
              "...    ...            ...  ...         ...       ...\n",
              "32556   27             12  ...           1         0\n",
              "32557   40              9  ...           0         1\n",
              "32558   58              9  ...           1         0\n",
              "32559   22              9  ...           0         1\n",
              "32560   52              9  ...           1         0\n",
              "\n",
              "[32561 rows x 13 columns]"
            ]
          },
          "metadata": {},
          "execution_count": 47
        }
      ]
    },
    {
      "cell_type": "markdown",
      "metadata": {
        "id": "MotoFq3XHz6Y"
      },
      "source": [
        "We can now handle the imballanced data by sampling in a stratefied fasion"
      ]
    },
    {
      "cell_type": "code",
      "metadata": {
        "colab": {
          "base_uri": "https://localhost:8080/"
        },
        "id": "H-BfSA4rLQIG",
        "outputId": "417f3d93-00c3-4f4b-9434-0e2aff05416c"
      },
      "source": [
        "y.unique()"
      ],
      "execution_count": null,
      "outputs": [
        {
          "output_type": "execute_result",
          "data": {
            "text/plain": [
              "array([0, 1])"
            ]
          },
          "metadata": {},
          "execution_count": 48
        }
      ]
    },
    {
      "cell_type": "code",
      "metadata": {
        "id": "jIhkH9aJBvYn"
      },
      "source": [
        "X_train, X_test, y_train, y_test = train_test_split(X, y, test_size=0.2, random_state=4, stratify=y)\n"
      ],
      "execution_count": null,
      "outputs": []
    },
    {
      "cell_type": "code",
      "metadata": {
        "id": "NsDKTNftL_E5"
      },
      "source": [
        " X_train, X_val, y_train, y_val = train_test_split(X_train, y_train, test_size=0.25, random_state=1, stratify=y_train) # 0.25 x 0.8 = 0.2"
      ],
      "execution_count": null,
      "outputs": []
    },
    {
      "cell_type": "code",
      "metadata": {
        "colab": {
          "base_uri": "https://localhost:8080/"
        },
        "id": "QqFYUaO5KTdM",
        "outputId": "5cf28f4a-a313-4603-8fd4-495823275029"
      },
      "source": [
        "print(f'test size: {y_test.size}, train size: {y_train.size}, validation: {y_val.size}')\n",
        "# print(f'test size: {y_test.size}, train size: {y_train.size}')"
      ],
      "execution_count": null,
      "outputs": [
        {
          "output_type": "stream",
          "name": "stdout",
          "text": [
            "test size: 6513, train size: 19536, validation: 6512\n"
          ]
        }
      ]
    },
    {
      "cell_type": "code",
      "metadata": {
        "id": "xEBQqXNdNw7Q"
      },
      "source": [
        "# model = xgboost.XGBClassifier()\n",
        "# kfold = KFold(n_splits=10, random_state=7)\n",
        "# results = cross_val_score(model, X_train, Y_train, cv=kfold)\n",
        "# print(\"Accuracy: %.2f%% (%.2f%%)\" % (results.mean()*100, results.std()*100))"
      ],
      "execution_count": null,
      "outputs": []
    },
    {
      "cell_type": "code",
      "metadata": {
        "colab": {
          "base_uri": "https://localhost:8080/",
          "height": 1000
        },
        "id": "MhAZptjkwO9L",
        "outputId": "966b3f0a-1573-4261-e998-e649e13055f7"
      },
      "source": [
        "model = xgb.XGBClassifier()\n",
        "eval_set = [(X_train, y_train), (X_val, y_val)]\n",
        "model.fit(X_train, y_train, eval_metric=[\"error\", \"logloss\"], eval_set=eval_set, verbose=True)\n",
        "\n",
        "# make predictions for test data\n",
        "y_pred = model.predict(X_val)\n",
        "predictions = [round(value) for value in y_pred]\n",
        "\n",
        "# evaluate predictions\n",
        "accuracy = accuracy_score(y_val, predictions)\n",
        "print(\"Accuracy: %.2f%%\" % (accuracy * 100.0))\n",
        "\n",
        "# retrieve performance metrics\n",
        "results = model.evals_result()\n",
        "epochs = len(results['validation_0']['error'])\n",
        "x_axis = range(0, epochs)\n",
        "\n",
        "# plot log loss\n",
        "fig, ax = plt.subplots()\n",
        "ax.plot(x_axis, results['validation_0']['logloss'], label='Train')\n",
        "ax.plot(x_axis, results['validation_1']['logloss'], label='Test')\n",
        "ax.legend()\n",
        "plt.ylabel('Log Loss')\n",
        "plt.title('XGBoost Log Loss')\n",
        "plt.show()\n",
        "\n",
        "# plot classification error\n",
        "fig, ax = plt.subplots()\n",
        "ax.plot(x_axis, results['validation_0']['error'], label='Train')\n",
        "ax.plot(x_axis, results['validation_1']['error'], label='Test')\n",
        "ax.legend()\n",
        "plt.ylabel('Classification Error')\n",
        "plt.title('XGBoost Classification Error')\n",
        "plt.show()"
      ],
      "execution_count": null,
      "outputs": [
        {
          "output_type": "stream",
          "name": "stdout",
          "text": [
            "[0]\tvalidation_0-error:0.160473\tvalidation_0-logloss:0.642237\tvalidation_1-error:0.162776\tvalidation_1-logloss:0.642258\n",
            "[1]\tvalidation_0-error:0.156378\tvalidation_0-logloss:0.600125\tvalidation_1-error:0.161241\tvalidation_1-logloss:0.600523\n",
            "[2]\tvalidation_0-error:0.156378\tvalidation_0-logloss:0.565371\tvalidation_1-error:0.161241\tvalidation_1-logloss:0.565764\n",
            "[3]\tvalidation_0-error:0.156378\tvalidation_0-logloss:0.535963\tvalidation_1-error:0.161241\tvalidation_1-logloss:0.536444\n",
            "[4]\tvalidation_0-error:0.15648\tvalidation_0-logloss:0.511005\tvalidation_1-error:0.161241\tvalidation_1-logloss:0.511704\n",
            "[5]\tvalidation_0-error:0.15648\tvalidation_0-logloss:0.489758\tvalidation_1-error:0.161241\tvalidation_1-logloss:0.490582\n",
            "[6]\tvalidation_0-error:0.15648\tvalidation_0-logloss:0.471514\tvalidation_1-error:0.161241\tvalidation_1-logloss:0.472374\n",
            "[7]\tvalidation_0-error:0.155917\tvalidation_0-logloss:0.455356\tvalidation_1-error:0.160934\tvalidation_1-logloss:0.456522\n",
            "[8]\tvalidation_0-error:0.155405\tvalidation_0-logloss:0.441276\tvalidation_1-error:0.160012\tvalidation_1-logloss:0.442386\n",
            "[9]\tvalidation_0-error:0.151771\tvalidation_0-logloss:0.428983\tvalidation_1-error:0.157095\tvalidation_1-logloss:0.43052\n",
            "[10]\tvalidation_0-error:0.150543\tvalidation_0-logloss:0.417827\tvalidation_1-error:0.157402\tvalidation_1-logloss:0.419637\n",
            "[11]\tvalidation_0-error:0.150645\tvalidation_0-logloss:0.408397\tvalidation_1-error:0.157402\tvalidation_1-logloss:0.410468\n",
            "[12]\tvalidation_0-error:0.150287\tvalidation_0-logloss:0.39938\tvalidation_1-error:0.156941\tvalidation_1-logloss:0.40162\n",
            "[13]\tvalidation_0-error:0.149928\tvalidation_0-logloss:0.391868\tvalidation_1-error:0.156173\tvalidation_1-logloss:0.394442\n",
            "[14]\tvalidation_0-error:0.149724\tvalidation_0-logloss:0.385296\tvalidation_1-error:0.156327\tvalidation_1-logloss:0.388171\n",
            "[15]\tvalidation_0-error:0.149416\tvalidation_0-logloss:0.378599\tvalidation_1-error:0.156173\tvalidation_1-logloss:0.38138\n",
            "[16]\tvalidation_0-error:0.149468\tvalidation_0-logloss:0.373057\tvalidation_1-error:0.155866\tvalidation_1-logloss:0.375893\n",
            "[17]\tvalidation_0-error:0.149263\tvalidation_0-logloss:0.368134\tvalidation_1-error:0.155713\tvalidation_1-logloss:0.371074\n",
            "[18]\tvalidation_0-error:0.148956\tvalidation_0-logloss:0.36379\tvalidation_1-error:0.155405\tvalidation_1-logloss:0.366995\n",
            "[19]\tvalidation_0-error:0.148905\tvalidation_0-logloss:0.359073\tvalidation_1-error:0.155098\tvalidation_1-logloss:0.362315\n",
            "[20]\tvalidation_0-error:0.148905\tvalidation_0-logloss:0.355411\tvalidation_1-error:0.155098\tvalidation_1-logloss:0.358647\n",
            "[21]\tvalidation_0-error:0.148905\tvalidation_0-logloss:0.352078\tvalidation_1-error:0.155098\tvalidation_1-logloss:0.355414\n",
            "[22]\tvalidation_0-error:0.148802\tvalidation_0-logloss:0.348479\tvalidation_1-error:0.154945\tvalidation_1-logloss:0.35191\n",
            "[23]\tvalidation_0-error:0.146806\tvalidation_0-logloss:0.345803\tvalidation_1-error:0.152027\tvalidation_1-logloss:0.349402\n",
            "[24]\tvalidation_0-error:0.147113\tvalidation_0-logloss:0.343299\tvalidation_1-error:0.152334\tvalidation_1-logloss:0.346803\n",
            "[25]\tvalidation_0-error:0.145987\tvalidation_0-logloss:0.340864\tvalidation_1-error:0.150645\tvalidation_1-logloss:0.344252\n",
            "[26]\tvalidation_0-error:0.146959\tvalidation_0-logloss:0.338827\tvalidation_1-error:0.151566\tvalidation_1-logloss:0.342251\n",
            "[27]\tvalidation_0-error:0.145833\tvalidation_0-logloss:0.336278\tvalidation_1-error:0.150338\tvalidation_1-logloss:0.339678\n",
            "[28]\tvalidation_0-error:0.145885\tvalidation_0-logloss:0.334487\tvalidation_1-error:0.150031\tvalidation_1-logloss:0.337904\n",
            "[29]\tvalidation_0-error:0.144861\tvalidation_0-logloss:0.332429\tvalidation_1-error:0.148649\tvalidation_1-logloss:0.335722\n",
            "[30]\tvalidation_0-error:0.144861\tvalidation_0-logloss:0.330943\tvalidation_1-error:0.149109\tvalidation_1-logloss:0.334322\n",
            "[31]\tvalidation_0-error:0.143991\tvalidation_0-logloss:0.329505\tvalidation_1-error:0.147574\tvalidation_1-logloss:0.33276\n",
            "[32]\tvalidation_0-error:0.144093\tvalidation_0-logloss:0.328253\tvalidation_1-error:0.147267\tvalidation_1-logloss:0.33153\n",
            "[33]\tvalidation_0-error:0.143991\tvalidation_0-logloss:0.326716\tvalidation_1-error:0.147727\tvalidation_1-logloss:0.329848\n",
            "[34]\tvalidation_0-error:0.143991\tvalidation_0-logloss:0.325616\tvalidation_1-error:0.147727\tvalidation_1-logloss:0.328763\n",
            "[35]\tvalidation_0-error:0.143735\tvalidation_0-logloss:0.324329\tvalidation_1-error:0.147113\tvalidation_1-logloss:0.327281\n",
            "[36]\tvalidation_0-error:0.143735\tvalidation_0-logloss:0.323389\tvalidation_1-error:0.147113\tvalidation_1-logloss:0.32641\n",
            "[37]\tvalidation_0-error:0.144144\tvalidation_0-logloss:0.322337\tvalidation_1-error:0.147574\tvalidation_1-logloss:0.32526\n",
            "[38]\tvalidation_0-error:0.144144\tvalidation_0-logloss:0.321467\tvalidation_1-error:0.147574\tvalidation_1-logloss:0.324583\n",
            "[39]\tvalidation_0-error:0.143683\tvalidation_0-logloss:0.32061\tvalidation_1-error:0.146652\tvalidation_1-logloss:0.323584\n",
            "[40]\tvalidation_0-error:0.143632\tvalidation_0-logloss:0.319886\tvalidation_1-error:0.146652\tvalidation_1-logloss:0.322876\n",
            "[41]\tvalidation_0-error:0.143786\tvalidation_0-logloss:0.319056\tvalidation_1-error:0.146806\tvalidation_1-logloss:0.321907\n",
            "[42]\tvalidation_0-error:0.143274\tvalidation_0-logloss:0.318164\tvalidation_1-error:0.146652\tvalidation_1-logloss:0.320826\n",
            "[43]\tvalidation_0-error:0.143325\tvalidation_0-logloss:0.31752\tvalidation_1-error:0.146652\tvalidation_1-logloss:0.320205\n",
            "[44]\tvalidation_0-error:0.143223\tvalidation_0-logloss:0.316622\tvalidation_1-error:0.146652\tvalidation_1-logloss:0.319239\n",
            "[45]\tvalidation_0-error:0.143376\tvalidation_0-logloss:0.316025\tvalidation_1-error:0.146499\tvalidation_1-logloss:0.318556\n",
            "[46]\tvalidation_0-error:0.143376\tvalidation_0-logloss:0.315329\tvalidation_1-error:0.146499\tvalidation_1-logloss:0.31777\n",
            "[47]\tvalidation_0-error:0.143325\tvalidation_0-logloss:0.314838\tvalidation_1-error:0.146192\tvalidation_1-logloss:0.317255\n",
            "[48]\tvalidation_0-error:0.142916\tvalidation_0-logloss:0.31436\tvalidation_1-error:0.146345\tvalidation_1-logloss:0.31685\n",
            "[49]\tvalidation_0-error:0.142813\tvalidation_0-logloss:0.313597\tvalidation_1-error:0.145731\tvalidation_1-logloss:0.31608\n",
            "[50]\tvalidation_0-error:0.142967\tvalidation_0-logloss:0.312905\tvalidation_1-error:0.145577\tvalidation_1-logloss:0.31547\n",
            "[51]\tvalidation_0-error:0.142813\tvalidation_0-logloss:0.312438\tvalidation_1-error:0.14527\tvalidation_1-logloss:0.315056\n",
            "[52]\tvalidation_0-error:0.142762\tvalidation_0-logloss:0.311958\tvalidation_1-error:0.145577\tvalidation_1-logloss:0.314637\n",
            "[53]\tvalidation_0-error:0.142711\tvalidation_0-logloss:0.311566\tvalidation_1-error:0.144502\tvalidation_1-logloss:0.314325\n",
            "[54]\tvalidation_0-error:0.142404\tvalidation_0-logloss:0.310974\tvalidation_1-error:0.144656\tvalidation_1-logloss:0.313705\n",
            "[55]\tvalidation_0-error:0.142353\tvalidation_0-logloss:0.310482\tvalidation_1-error:0.144502\tvalidation_1-logloss:0.313242\n",
            "[56]\tvalidation_0-error:0.141738\tvalidation_0-logloss:0.309729\tvalidation_1-error:0.144195\tvalidation_1-logloss:0.312576\n",
            "[57]\tvalidation_0-error:0.141841\tvalidation_0-logloss:0.309368\tvalidation_1-error:0.143888\tvalidation_1-logloss:0.312132\n",
            "[58]\tvalidation_0-error:0.141534\tvalidation_0-logloss:0.308929\tvalidation_1-error:0.144195\tvalidation_1-logloss:0.311686\n",
            "[59]\tvalidation_0-error:0.141687\tvalidation_0-logloss:0.308606\tvalidation_1-error:0.144042\tvalidation_1-logloss:0.311484\n",
            "[60]\tvalidation_0-error:0.141636\tvalidation_0-logloss:0.308108\tvalidation_1-error:0.142967\tvalidation_1-logloss:0.31105\n",
            "[61]\tvalidation_0-error:0.141636\tvalidation_0-logloss:0.307785\tvalidation_1-error:0.142967\tvalidation_1-logloss:0.310828\n",
            "[62]\tvalidation_0-error:0.141687\tvalidation_0-logloss:0.307464\tvalidation_1-error:0.14266\tvalidation_1-logloss:0.310517\n",
            "[63]\tvalidation_0-error:0.14138\tvalidation_0-logloss:0.306936\tvalidation_1-error:0.142506\tvalidation_1-logloss:0.310012\n",
            "[64]\tvalidation_0-error:0.14138\tvalidation_0-logloss:0.306728\tvalidation_1-error:0.142506\tvalidation_1-logloss:0.309872\n",
            "[65]\tvalidation_0-error:0.141329\tvalidation_0-logloss:0.306382\tvalidation_1-error:0.142506\tvalidation_1-logloss:0.309489\n",
            "[66]\tvalidation_0-error:0.141226\tvalidation_0-logloss:0.306144\tvalidation_1-error:0.142353\tvalidation_1-logloss:0.309287\n",
            "[67]\tvalidation_0-error:0.141226\tvalidation_0-logloss:0.305935\tvalidation_1-error:0.142506\tvalidation_1-logloss:0.309157\n",
            "[68]\tvalidation_0-error:0.140919\tvalidation_0-logloss:0.305451\tvalidation_1-error:0.14266\tvalidation_1-logloss:0.308794\n",
            "[69]\tvalidation_0-error:0.140919\tvalidation_0-logloss:0.305114\tvalidation_1-error:0.14266\tvalidation_1-logloss:0.308466\n",
            "[70]\tvalidation_0-error:0.140868\tvalidation_0-logloss:0.304647\tvalidation_1-error:0.14266\tvalidation_1-logloss:0.308042\n",
            "[71]\tvalidation_0-error:0.140868\tvalidation_0-logloss:0.304299\tvalidation_1-error:0.142353\tvalidation_1-logloss:0.307739\n",
            "[72]\tvalidation_0-error:0.140817\tvalidation_0-logloss:0.304145\tvalidation_1-error:0.142353\tvalidation_1-logloss:0.307668\n",
            "[73]\tvalidation_0-error:0.140919\tvalidation_0-logloss:0.303929\tvalidation_1-error:0.142353\tvalidation_1-logloss:0.307412\n",
            "[74]\tvalidation_0-error:0.140715\tvalidation_0-logloss:0.303728\tvalidation_1-error:0.142506\tvalidation_1-logloss:0.307197\n",
            "[75]\tvalidation_0-error:0.140305\tvalidation_0-logloss:0.303523\tvalidation_1-error:0.141585\tvalidation_1-logloss:0.307056\n",
            "[76]\tvalidation_0-error:0.140254\tvalidation_0-logloss:0.303234\tvalidation_1-error:0.141431\tvalidation_1-logloss:0.306804\n",
            "[77]\tvalidation_0-error:0.140049\tvalidation_0-logloss:0.302927\tvalidation_1-error:0.140971\tvalidation_1-logloss:0.306552\n",
            "[78]\tvalidation_0-error:0.139844\tvalidation_0-logloss:0.302588\tvalidation_1-error:0.140971\tvalidation_1-logloss:0.306303\n",
            "[79]\tvalidation_0-error:0.139793\tvalidation_0-logloss:0.302438\tvalidation_1-error:0.140971\tvalidation_1-logloss:0.306217\n",
            "[80]\tvalidation_0-error:0.139793\tvalidation_0-logloss:0.302169\tvalidation_1-error:0.140971\tvalidation_1-logloss:0.306002\n",
            "[81]\tvalidation_0-error:0.139691\tvalidation_0-logloss:0.302038\tvalidation_1-error:0.141124\tvalidation_1-logloss:0.305931\n",
            "[82]\tvalidation_0-error:0.139793\tvalidation_0-logloss:0.301794\tvalidation_1-error:0.141278\tvalidation_1-logloss:0.305701\n",
            "[83]\tvalidation_0-error:0.139588\tvalidation_0-logloss:0.301545\tvalidation_1-error:0.141124\tvalidation_1-logloss:0.305452\n",
            "[84]\tvalidation_0-error:0.139128\tvalidation_0-logloss:0.301191\tvalidation_1-error:0.141278\tvalidation_1-logloss:0.305189\n",
            "[85]\tvalidation_0-error:0.139025\tvalidation_0-logloss:0.30104\tvalidation_1-error:0.141278\tvalidation_1-logloss:0.305147\n",
            "[86]\tvalidation_0-error:0.139128\tvalidation_0-logloss:0.30082\tvalidation_1-error:0.141585\tvalidation_1-logloss:0.304961\n",
            "[87]\tvalidation_0-error:0.138821\tvalidation_0-logloss:0.300596\tvalidation_1-error:0.141585\tvalidation_1-logloss:0.304763\n",
            "[88]\tvalidation_0-error:0.138821\tvalidation_0-logloss:0.300376\tvalidation_1-error:0.141431\tvalidation_1-logloss:0.304472\n",
            "[89]\tvalidation_0-error:0.138616\tvalidation_0-logloss:0.29988\tvalidation_1-error:0.141431\tvalidation_1-logloss:0.304001\n",
            "[90]\tvalidation_0-error:0.138514\tvalidation_0-logloss:0.299742\tvalidation_1-error:0.141124\tvalidation_1-logloss:0.303914\n",
            "[91]\tvalidation_0-error:0.13836\tvalidation_0-logloss:0.29954\tvalidation_1-error:0.141124\tvalidation_1-logloss:0.303741\n",
            "[92]\tvalidation_0-error:0.138411\tvalidation_0-logloss:0.299377\tvalidation_1-error:0.141124\tvalidation_1-logloss:0.303622\n",
            "[93]\tvalidation_0-error:0.138309\tvalidation_0-logloss:0.299191\tvalidation_1-error:0.141124\tvalidation_1-logloss:0.303436\n",
            "[94]\tvalidation_0-error:0.138002\tvalidation_0-logloss:0.298893\tvalidation_1-error:0.140663\tvalidation_1-logloss:0.303213\n",
            "[95]\tvalidation_0-error:0.13795\tvalidation_0-logloss:0.29877\tvalidation_1-error:0.140663\tvalidation_1-logloss:0.303178\n",
            "[96]\tvalidation_0-error:0.13795\tvalidation_0-logloss:0.298598\tvalidation_1-error:0.140663\tvalidation_1-logloss:0.303046\n",
            "[97]\tvalidation_0-error:0.137695\tvalidation_0-logloss:0.298316\tvalidation_1-error:0.140203\tvalidation_1-logloss:0.302794\n",
            "[98]\tvalidation_0-error:0.13749\tvalidation_0-logloss:0.298159\tvalidation_1-error:0.14051\tvalidation_1-logloss:0.302679\n",
            "[99]\tvalidation_0-error:0.137387\tvalidation_0-logloss:0.298007\tvalidation_1-error:0.140356\tvalidation_1-logloss:0.302548\n",
            "Accuracy: 85.96%\n"
          ]
        },
        {
          "output_type": "display_data",
          "data": {
            "image/png": "[encoded data removed]",
            "text/plain": [
              "<Figure size 432x288 with 1 Axes>"
            ]
          },
          "metadata": {
            "needs_background": "light"
          }
        },
        {
          "output_type": "display_data",
          "data": {
            "image/png": "[encoded data removed]",
            "text/plain": [
              "<Figure size 432x288 with 1 Axes>"
            ]
          },
          "metadata": {
            "needs_background": "light"
          }
        }
      ]
    },
    {
      "cell_type": "code",
      "metadata": {
        "id": "ng7_JCM5Mnmo"
      },
      "source": [
        "test_preds = model.predict(X_test)"
      ],
      "execution_count": null,
      "outputs": []
    },
    {
      "cell_type": "code",
      "metadata": {
        "colab": {
          "base_uri": "https://localhost:8080/"
        },
        "id": "uu5uFvNSM31-",
        "outputId": "5c6a102c-2456-4faf-ab2b-309cfa760b4e"
      },
      "source": [
        "len(test_preds)"
      ],
      "execution_count": null,
      "outputs": [
        {
          "output_type": "execute_result",
          "data": {
            "text/plain": [
              "6513"
            ]
          },
          "metadata": {},
          "execution_count": 55
        }
      ]
    },
    {
      "cell_type": "code",
      "metadata": {
        "colab": {
          "base_uri": "https://localhost:8080/"
        },
        "id": "xPD5SucGNnvA",
        "outputId": "5efe9209-6003-435e-e2a1-4d0368145148"
      },
      "source": [
        "print(f'{X_test.shape} {y_test.size}')"
      ],
      "execution_count": null,
      "outputs": [
        {
          "output_type": "stream",
          "name": "stdout",
          "text": [
            "(6513, 13) 6513\n"
          ]
        }
      ]
    },
    {
      "cell_type": "code",
      "metadata": {
        "colab": {
          "base_uri": "https://localhost:8080/"
        },
        "id": "_JSwZy8FM5UC",
        "outputId": "8efb4ef7-905b-4f45-fde6-b075ca154b11"
      },
      "source": [
        "test_preds = [round(value) for value in test_preds]\n",
        "\n",
        "# evaluate predictions\n",
        "accuracy = accuracy_score(y_test, test_preds)\n",
        "print(\"Accuracy: %.2f%%\" % (accuracy * 100.0))"
      ],
      "execution_count": null,
      "outputs": [
        {
          "output_type": "stream",
          "name": "stdout",
          "text": [
            "Accuracy: 85.69%\n"
          ]
        }
      ]
    },
    {
      "cell_type": "markdown",
      "metadata": {
        "id": "M-BUcbgKNLoa"
      },
      "source": [
        "Considering out baseline of ~ 76% accuracy with a simple model that allways predicts a singe class this is not a good enough improvement.\n",
        "\n",
        "The good news is that the accuracy on the test set and the accuracy on the validation set are very similar."
      ]
    },
    {
      "cell_type": "code",
      "metadata": {
        "colab": {
          "base_uri": "https://localhost:8080/",
          "height": 295
        },
        "id": "YWo8Lb32RrQy",
        "outputId": "4e6cc559-46b7-4122-aad8-c502880447c5"
      },
      "source": [
        "plot_importance(model)\n",
        "plt.show()"
      ],
      "execution_count": null,
      "outputs": [
        {
          "output_type": "display_data",
          "data": {
            "image/png": "[encoded data removed]",
            "text/plain": [
              "<Figure size 432x288 with 1 Axes>"
            ]
          },
          "metadata": {
            "needs_background": "light"
          }
        }
      ]
    },
    {
      "cell_type": "markdown",
      "metadata": {
        "id": "QVISXg5NPQkj"
      },
      "source": [
        "# Conclusion"
      ]
    },
    {
      "cell_type": "markdown",
      "metadata": {
        "id": "oui4cyumPdWy"
      },
      "source": [
        "We found interesting relationships between variables that would be interesting to further investigate.\n",
        "\n",
        "We removed redundant variables, we created dummy variables, we engineered some features to have more suiting values.\n",
        "\n",
        "If I would have more time, I would try different subsets of models and perhaps train the model for more epochs and find the point in which it overfits as well as play with hyper parameters and try other tree-based models or perhaps a logistic regression.\n",
        "\n",
        "We reached an accuracy of ~85.6% which is better than random and than predicting a single class and seems quite general since we tested it on two seperate test sets and both had the same accuracy.\n",
        "\n",
        "It would be interesting to check:\n",
        "- Dig a little deaper into feature importance\n",
        "- Dig into the predictions to see if the model did anything too simple"
      ]
    }
  ]
}